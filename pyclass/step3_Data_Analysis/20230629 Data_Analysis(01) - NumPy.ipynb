{
 "cells": [
  {
   "cell_type": "markdown",
   "id": "8fbf2c2b",
   "metadata": {},
   "source": [
    "# NumPy\n",
    "- Numeric + Python = Numpy\n",
    "- 수학 및 과학 연산을 위한 파이썬 패키지\n",
    "- 배열이나 행렬 계산에 용이한 메서드 제공\n",
    "- 반복문 없이 데이터 배열에 대한 처리 지원\n",
    "- 선형대수와 관련된 다양한 기능 제공\n",
    "- 관련 사이트\n",
    "    - http://www.numpy.org\n",
    "    - http://cs231n.github.io/python-numpy-tutorial/#numpy\n",
    "    - https://datascienceschool.net"
   ]
  },
  {
   "cell_type": "code",
   "execution_count": 2,
   "id": "560c5895",
   "metadata": {},
   "outputs": [
    {
     "data": {
      "text/plain": [
       "'1.25.0'"
      ]
     },
     "execution_count": 2,
     "metadata": {},
     "output_type": "execute_result"
    }
   ],
   "source": [
    "import numpy as np\n",
    "\n",
    "np.__version__"
   ]
  },
  {
   "cell_type": "code",
   "execution_count": 10,
   "id": "6603ede5",
   "metadata": {},
   "outputs": [
    {
     "name": "stdout",
     "output_type": "stream",
     "text": [
      "[1, 2, 3, 4, 5]\n",
      "<class 'list'>\n",
      "\n",
      "[1 2 3 4 5]\n",
      "<class 'numpy.ndarray'>\n"
     ]
    },
    {
     "data": {
      "text/plain": [
       "array([1, 2, 3, 4, 5])"
      ]
     },
     "execution_count": 10,
     "metadata": {},
     "output_type": "execute_result"
    }
   ],
   "source": [
    "# 넘파이 배열 생성\n",
    "'''\n",
    "Numpy np.array(리스트|튜플|집합)\n",
    "    - 리스트변수 생성 후 np.array(리스트명)\n",
    "    - np.array([값1, 값2....])\n",
    "    - 리스트 형태는 실수, 정수, 문자 넘파이 배열 가능\n",
    "'''\n",
    "\n",
    "myList = [1,2,3,4,5]\n",
    "print(myList)\n",
    "print(type(myList))\n",
    "print()\n",
    "\n",
    "arr = np.array(myList)\n",
    "print(arr)\n",
    "print(type(arr))\n",
    "arr"
   ]
  },
  {
   "cell_type": "code",
   "execution_count": 17,
   "id": "bf9224cf",
   "metadata": {},
   "outputs": [
    {
     "name": "stdout",
     "output_type": "stream",
     "text": [
      "[ 1.   2.   3.5  6.  10. ]\n",
      "['강아지' '원숭이' '꽃' '45,100'] <class 'numpy.ndarray'>\n"
     ]
    }
   ],
   "source": [
    "# 정수 + 실수 리스트 => 넘파이 배열\n",
    "print(np.array([1,2,3.5,6,10]))\n",
    "\n",
    "# 문자열 리스트 => 넘파이 배열\n",
    "myList = ['강아지','원숭이','꽃','45,100']\n",
    "print(np.array(myList), type(np.array(myList)))"
   ]
  },
  {
   "cell_type": "code",
   "execution_count": 21,
   "id": "c6c13460",
   "metadata": {},
   "outputs": [
    {
     "name": "stdout",
     "output_type": "stream",
     "text": [
      "[1, 2, 3.14, 5] [1, 3.14, 'cat', 'zero']\n",
      "[1.   2.   3.14 5.  ] ['1' '3.14' 'cat' 'zero']\n"
     ]
    }
   ],
   "source": [
    "# 리스트는 데이터형이 혼합되어도 되지만 넘파이 배열은 데이터형이 하나여야 한다!!\n",
    "\n",
    "myList1 = [1,2,3.14,5]\n",
    "myList2 = [1, 3.14, 'cat', 'zero']\n",
    "print(myList1, myList2) # 리스트는 데이터형 변환 없음\n",
    "\n",
    "arr1 = np.array(myList1)\n",
    "arr2 = np.array(myList2)\n",
    "\n",
    "print(arr1, arr2) # 넘파이 배열은 하나의 데이터형으로 변환"
   ]
  },
  {
   "cell_type": "markdown",
   "id": "06dcba9d",
   "metadata": {},
   "source": [
    "### 넘파이 구조 : shape\n",
    "- 넘파이배열명.shape\n",
    "    - 1차원 넘파이 배열의 구조(형태) = (갯수,) = tuple 구조\n",
    "    - 2차원 넘파이 배열의 구조(형태) = (행수,열수) = tuple 구조\n",
    "    - ndim; number of dimension : 차원, 정수 형태로 반환\n",
    "    - 넘파이 배열 안의 배열은 데이터 길이가 같아야 한다!\n",
    "    - len(): 1차원은 전체 갯수, 2차원은 행수, type(): 넘파이 배열\n",
    "    - size: 전체 데이터 갯수"
   ]
  },
  {
   "cell_type": "code",
   "execution_count": 38,
   "id": "7ac72e1d",
   "metadata": {},
   "outputs": [
    {
     "name": "stdout",
     "output_type": "stream",
     "text": [
      "(5,)\n",
      "[1 2 3 4 5]\n"
     ]
    },
    {
     "data": {
      "text/plain": [
       "array([1, 2, 3, 4, 5])"
      ]
     },
     "execution_count": 38,
     "metadata": {},
     "output_type": "execute_result"
    }
   ],
   "source": [
    "# 1차원 리스트 => 넘파이 배열\n",
    "arr1 = np.array(['트와이스','워너원','위너','방탄소년단','레드벨벳'])\n",
    "print(arr1.shape) # (갯수,)를 튜플 형태로 반환\n",
    "print(arr)\n",
    "# arr"
   ]
  },
  {
   "cell_type": "code",
   "execution_count": 39,
   "id": "6586edaa",
   "metadata": {},
   "outputs": [
    {
     "name": "stdout",
     "output_type": "stream",
     "text": [
      "<class 'numpy.ndarray'>\n",
      "3 (3, 3)\n",
      "[['red' 'green' 'blue']\n",
      " ['빨강' '초록' '파랑']\n",
      " ['white' 'black' 'gray']]\n",
      "3 3\n"
     ]
    }
   ],
   "source": [
    "# 2차원 리스트 => 넘파이 배열\n",
    "colourList = [['red','green','blue'], ['빨강','초록','파랑'], ['white', 'black', 'gray']]\n",
    "\n",
    "colourNp = np.array(colourList)\n",
    "print(type(colourNp))\n",
    "print(len(colourNp), colourNp.shape) # (행수, 열수) 튜플 형태로 반환\n",
    "print(colourNp)\n",
    "# colourNp\n",
    "print(colourNp.shape[0], colourNp.shape[1])"
   ]
  },
  {
   "cell_type": "markdown",
   "id": "93cea41f",
   "metadata": {},
   "source": [
    "### 초기값이 지정된 넘파이 배열\n",
    "- np.zeros(갯수) : 0으로 구성된 1차원 넘파이 배열\n",
    "- np.zeros([행수,열수]) : 0으로 구성된 2차원 넘파이 배열\n",
    "- np.ones(갯수) : 1로 구성된 1차원 넘파이 배열\n",
    "- np.ones([행수,열수]) : 1로 구성된 2차원 넘파이 배열\n",
    "- np.full(갯수, 초기값) : 지정한 값으로 지정하는 1차원 넘파이 배열\n",
    "- np.full([행수,열수], 초기값) : 지정한 값으로 지정하는 2차원 넘파이 배열"
   ]
  },
  {
   "cell_type": "code",
   "execution_count": 44,
   "id": "da56e377",
   "metadata": {},
   "outputs": [
    {
     "data": {
      "text/plain": [
       "array([[7, 7, 7, 7, 7],\n",
       "       [7, 7, 7, 7, 7],\n",
       "       [7, 7, 7, 7, 7]])"
      ]
     },
     "execution_count": 44,
     "metadata": {},
     "output_type": "execute_result"
    }
   ],
   "source": [
    "arr = np.full([3,5], 7)\n",
    "arr"
   ]
  },
  {
   "cell_type": "markdown",
   "id": "0f5ac413",
   "metadata": {},
   "source": [
    "### 초기값이 지정된 넘파이 배열\n",
    "- np.eye(갯수) : 대각선의 원소가 모두 1이고 나머지 원소는 0인 정사각형 2차원 넘파이 배열 생성\n",
    "- np.tri(갯수) : 대각선을 기준으로 삼각형 형태로 1이 지정되는 정사각형 2차원 넘파이 배열 생성\n",
    "- np.?_like(넘파이배열명) : 지정된 넘파이 배열과 shape가 같은 넘파이 배열 생성\n",
    "    - np.zeros_like(넘파이배열명)\n",
    "    - np.ones_like(넘파이배열명)\n",
    "    - np.full_like(넘파이배열명, 값)\n",
    "    - np.empty_like(넘파이배열명)"
   ]
  },
  {
   "cell_type": "code",
   "execution_count": 66,
   "id": "442eecb3",
   "metadata": {},
   "outputs": [
    {
     "name": "stdout",
     "output_type": "stream",
     "text": [
      "[[1. 0. 0. 0. 0.]\n",
      " [0. 1. 0. 0. 0.]\n",
      " [0. 0. 1. 0. 0.]\n",
      " [0. 0. 0. 1. 0.]\n",
      " [0. 0. 0. 0. 1.]]\n",
      "==================================================\n",
      "[[1. 0. 0. 0. 0.]\n",
      " [1. 1. 0. 0. 0.]\n",
      " [1. 1. 1. 0. 0.]\n",
      " [1. 1. 1. 1. 0.]\n",
      " [1. 1. 1. 1. 1.]]\n",
      "==================================================\n",
      "[[1 2 3]\n",
      " [4 5 6]\n",
      " [7 8 9]]\n",
      "[[0 0 0]\n",
      " [0 0 0]\n",
      " [0 0 0]]\n",
      "[[1 1 1]\n",
      " [1 1 1]\n",
      " [1 1 1]]\n",
      "[[3 3 3]\n",
      " [3 3 3]\n",
      " [3 3 3]]\n",
      "==================================================\n",
      "[[3 3 3]\n",
      " [3 3 3]\n",
      " [3 3 3]]\n"
     ]
    }
   ],
   "source": [
    "print(np.eye(5))\n",
    "print('='*50)\n",
    "\n",
    "print(np.tri(5))\n",
    "print('='*50)\n",
    "\n",
    "myArr = np.array([[1, 2, 3], [4, 5, 6], [7, 8, 9]]) # str 값이 있을 때랑 없을 때 비교해서 보기!! str 형태로 zeros 출력하면 값이 없는 형태로 반환\n",
    "print(myArr)\n",
    "print(np.zeros_like(myArr))\n",
    "print(np.ones_like(myArr))\n",
    "print(np.full_like(myArr, 3.5))\n",
    "# print(np.full_like(myArr, True))\n",
    "print('='*50)\n",
    "\n",
    "print(np.empty_like(myArr))"
   ]
  },
  {
   "cell_type": "markdown",
   "id": "9e6ce6ef",
   "metadata": {},
   "source": [
    "### 초기값이 지정된 넘파이 배열\n",
    "- 증가되는 숫자값으로 넘파이배열 생성하기\n",
    "    - np.arange(start,end,step) => 넘파이배열. end-1 까지만 생성\n",
    "    - np.arange(end) => 넘파이배열. 0~ end-1 까지만 생성\n",
    "    - np.linspace(start,end,n) => 범위 내에서 n개를 균등 간격으로 생성"
   ]
  },
  {
   "cell_type": "code",
   "execution_count": 68,
   "id": "ed0529d4",
   "metadata": {},
   "outputs": [
    {
     "name": "stdout",
     "output_type": "stream",
     "text": [
      "range(0, 10) <class 'range'>\n",
      "[0, 1, 2, 3, 4, 5, 6, 7, 8, 9] <class 'list'>\n",
      "range(0, 10, 2)\n",
      "[0, 2, 4, 6, 8]\n"
     ]
    }
   ],
   "source": [
    "# 참고\n",
    "# range(start,end,step) => 리스트. end-1 까지만 생성\n",
    "print(range(0,10), type(range(0,10)))\n",
    "print(list(range(0,10)), type(list(range(0,10))))\n",
    "print(range(0,10,2))\n",
    "print(list(range(0,10,2)))"
   ]
  },
  {
   "cell_type": "code",
   "execution_count": 100,
   "id": "e5221cb8",
   "metadata": {},
   "outputs": [
    {
     "name": "stdout",
     "output_type": "stream",
     "text": [
      "[1 4 7]\n",
      "======================\n",
      "1 [0 1 2 3 4 5 6 7 8 9]\n",
      "2 [1 3 5 7 9]\n",
      "3 [10 11 12 13 14 15 16 17 18 19 20]\n",
      "4 [0.   0.25 0.5  0.75 1.  ]\n",
      "5 [-10.  -5.   0.   5.  10.]\n"
     ]
    }
   ],
   "source": [
    "test = np.arange(1,10,3)\n",
    "print(test)\n",
    "print('======================')\n",
    "print('1',np.arange(10))\n",
    "print('2',np.arange(1, 10, 2))\n",
    "print('3',np.arange(10, 21))\n",
    "print('4',np.linspace(0, 1, 5))\n",
    "print('5',np.linspace(-10, 10, 5))"
   ]
  },
  {
   "cell_type": "markdown",
   "id": "d09e9bea",
   "metadata": {},
   "source": [
    "### 넘파이 데이타형 : dtype\n",
    "- 넘파이배열 값의 데이터형을 반환\n",
    "- dtype : data type\n",
    "- type(변수/값) => 전체객체의 자료형\n",
    "- 넘파이배열.dtype : int32, <U2 , float64\n",
    "- 넘파이배열 생성시 자료형 함께 지정하기\n",
    "    - np.array(리스트, dtype=자료형)"
   ]
  },
  {
   "cell_type": "code",
   "execution_count": 112,
   "id": "ee7e2559",
   "metadata": {},
   "outputs": [
    {
     "name": "stdout",
     "output_type": "stream",
     "text": [
      "int32\n",
      "[1 2 3 4 5]\n",
      "\n",
      "float64\n",
      "[1. 2. 3. 4. 5.]\n"
     ]
    }
   ],
   "source": [
    "arr1 = np.array([1,2,3,4,5])\n",
    "print(arr1.dtype)\n",
    "print(arr1)\n",
    "print()\n",
    "\n",
    "arr1 = np.array([1,2,3,4,5], dtype=float)\n",
    "print(arr1.dtype)\n",
    "print(arr1)"
   ]
  },
  {
   "cell_type": "code",
   "execution_count": 102,
   "id": "a9dd5e39",
   "metadata": {},
   "outputs": [
    {
     "data": {
      "text/plain": [
       "dtype('float64')"
      ]
     },
     "execution_count": 102,
     "metadata": {},
     "output_type": "execute_result"
    }
   ],
   "source": [
    "arr2 = np.array([5.5, 6, 7, 10.0])\n",
    "arr2.dtype"
   ]
  },
  {
   "cell_type": "code",
   "execution_count": 104,
   "id": "e8ae9b6b",
   "metadata": {},
   "outputs": [
    {
     "data": {
      "text/plain": [
       "dtype('<U11')"
      ]
     },
     "execution_count": 104,
     "metadata": {},
     "output_type": "execute_result"
    }
   ],
   "source": [
    "arr3 = np.array([1,2,'3',4,5])\n",
    "arr3.dtype"
   ]
  },
  {
   "cell_type": "code",
   "execution_count": 106,
   "id": "b54f000b",
   "metadata": {
    "scrolled": true
   },
   "outputs": [
    {
     "data": {
      "text/plain": [
       "dtype('<U1')"
      ]
     },
     "execution_count": 106,
     "metadata": {},
     "output_type": "execute_result"
    }
   ],
   "source": [
    "arr4 = np.array(['1','2','3'])\n",
    "arr4.dtype"
   ]
  },
  {
   "cell_type": "code",
   "execution_count": 122,
   "id": "538d1945",
   "metadata": {
    "scrolled": true
   },
   "outputs": [
    {
     "name": "stdout",
     "output_type": "stream",
     "text": [
      "<class 'numpy.ndarray'> float64\n",
      "[1. 2. 3. 4. 5.]\n",
      "\n",
      "<class 'numpy.ndarray'> <U1\n",
      "['1' '2' '3' '4' '5']\n",
      "\n",
      "<class 'numpy.ndarray'> bool\n",
      "[False  True  True  True  True  True  True False]\n"
     ]
    }
   ],
   "source": [
    "#  데이타형 : dtype\n",
    "\n",
    "# 실수형으로 넘파이 배열 생성\n",
    "arr = np.array([1,2,3,4,5], dtype=float)\n",
    "print(type(arr), arr.dtype)\n",
    "print(arr)\n",
    "print()\n",
    "\n",
    "# 문자열형으로 넘파이 배열 생성\n",
    "arr = np.array([1,2,3,4,5], dtype=str)\n",
    "print(type(arr), arr.dtype)\n",
    "print(arr)\n",
    "print()\n",
    "\n",
    "# 논리형으로 넘파이 배열 생성\n",
    "arr = np.array([0,1,2,3,4,5,'사과',''], dtype=bool)\n",
    "print(type(arr), arr.dtype)\n",
    "print(arr)"
   ]
  },
  {
   "cell_type": "code",
   "execution_count": 130,
   "id": "f8e2c112",
   "metadata": {},
   "outputs": [
    {
     "name": "stdout",
     "output_type": "stream",
     "text": [
      "[[ 0  1  2  3  4]\n",
      " [ 0  0  0  1  0]\n",
      " [ 5  7  1 32 -9]]  :  int32 \n",
      "\n",
      "[[ 0.  1.  2.  3.  4.]\n",
      " [ 0.  0.  0.  1.  0.]\n",
      " [ 5.  7.  1. 32. -9.]]  :  float64 \n",
      "\n",
      "[['0' '1' '2' '3' '4']\n",
      " ['0' '0' '0' '1' '0']\n",
      " ['5' '7' '1' '3' '-']]  :  <U1 \n",
      "\n",
      "[[False  True  True  True  True]\n",
      " [False False False  True False]\n",
      " [ True  True  True  True  True]]  :  bool\n"
     ]
    }
   ],
   "source": [
    "# 데이터형 변환(casting)\n",
    "arr1 = np.array([[0,1,2,3,4],[0,0,0,1,0],[5,7,1,32,-9]])\n",
    "print(arr1, ' : ', arr1.dtype, '\\n')\n",
    "\n",
    "arr2 = arr1.astype(float)\n",
    "print(arr2, ' : ', arr2.dtype, '\\n')\n",
    "\n",
    "arr3 = arr1.astype('<U1')\n",
    "print(arr3, ' : ', arr3.dtype, '\\n')\n",
    "\n",
    "arr4 = arr1.astype(bool)\n",
    "print(arr4, ' : ', arr4.dtype)"
   ]
  },
  {
   "cell_type": "markdown",
   "id": "ed309b79",
   "metadata": {},
   "source": [
    "### 배열의 구조 변경\n",
    "- 1차원 => 2차원 / 2차원=>1차원\n",
    "- 넘파이배열명.reshape(행수,열수) : 1차원=>2차원, 2차원=>2차원\n",
    "- 넘파이배열명.flatten() : 2차원 => 1차원 | 쫙 펼쳐서 1차원의 배열에 다 담음\n",
    "- 넘파이배열명.reshape(-1, ?) : 전체요소(size)기준. 2차원 전체 갯수 기반으로 row 개수 선정"
   ]
  },
  {
   "cell_type": "code",
   "execution_count": 135,
   "id": "8d14dd39",
   "metadata": {},
   "outputs": [
    {
     "name": "stdout",
     "output_type": "stream",
     "text": [
      "npArr1 \n",
      "[100 300 500   1   2], \n",
      "차원=1, 구조=(5,)\n",
      "\n",
      " npArr2 \n",
      " [[100]\n",
      " [300]\n",
      " [500]\n",
      " [  1]\n",
      " [  2]], \n",
      "차원=2, 구조=(5, 1)\n"
     ]
    }
   ],
   "source": [
    "# 1차원(5) => 2차원(5행1열)\n",
    "npArr1 = np.array([100, 300, 500, 1, 2])\n",
    "print(f'npArr1 \\n{npArr1}, \\n차원={npArr1.ndim}, 구조={npArr1.shape}')\n",
    "\n",
    "npArr2 = npArr1.reshape(5,1)\n",
    "print(f'\\n npArr2 \\n {npArr2}, \\n차원={npArr2.ndim}, 구조={npArr2.shape}')"
   ]
  },
  {
   "cell_type": "code",
   "execution_count": 136,
   "id": "3c9dcb8e",
   "metadata": {},
   "outputs": [
    {
     "name": "stdout",
     "output_type": "stream",
     "text": [
      "npArr3 \n",
      "[['a' 'b' 'c' 'd' 'e']\n",
      " ['a' 'b' 'c' 'd' 'e']]\n",
      "차원=2, 구조=(2, 5)\n",
      "\n",
      "\n",
      " npArr4 \n",
      "[['a' 'b']\n",
      " ['c' 'd']\n",
      " ['e' 'a']\n",
      " ['b' 'c']\n",
      " ['d' 'e']]\n",
      "차원=2, 구조=(5, 2)\n"
     ]
    }
   ],
   "source": [
    "# 2차원(2행5열) => 2차원(5행2열)\n",
    "npArr3 = np.array([['a','b','c','d','e'],['a','b','c','d','e']])\n",
    "print(f'npArr3 \\n{npArr3}\\n차원={npArr3.ndim}, 구조={npArr3.shape}')\n",
    "\n",
    "npArr4 = npArr3.reshape(5,2)\n",
    "print(f'\\n\\n npArr4 \\n{npArr4}\\n차원={npArr4.ndim}, 구조={npArr4.shape}')"
   ]
  },
  {
   "cell_type": "code",
   "execution_count": 137,
   "id": "0070583c",
   "metadata": {},
   "outputs": [
    {
     "name": "stdout",
     "output_type": "stream",
     "text": [
      "npArr5\n",
      "[[ 1  4  5  6]\n",
      " [56 23 45 67]\n",
      " [ 8  4  6 10]]\n",
      "차원=2, 구조=(3, 4)\n",
      "\n",
      "npArr6\n",
      "[ 1  4  5  6 56 23 45 67  8  4  6 10]\n",
      "차원=1, 구조=(12,)\n"
     ]
    }
   ],
   "source": [
    "# 2차원(2행5열) => 1차원(10)\n",
    "npArr5 = np.array([[1,4,5,6],[56,23,45,67],[8,4,6,10]])\n",
    "print(f'npArr5\\n{npArr5}\\n차원={npArr5.ndim}, 구조={npArr5.shape}\\n')\n",
    "\n",
    "npArr6 = npArr5.flatten()\n",
    "print(f'npArr6\\n{npArr6}\\n차원={npArr6.ndim}, 구조={npArr6.shape}')"
   ]
  },
  {
   "cell_type": "code",
   "execution_count": 152,
   "id": "3635fe81",
   "metadata": {},
   "outputs": [
    {
     "name": "stdout",
     "output_type": "stream",
     "text": [
      "[ 30  80 100  79  80 100]\n",
      "차원=1, 구조=(6,), 총갯수=6\n",
      "\n",
      "[[ 30  80]\n",
      " [100  79]\n",
      " [ 80 100]]\n",
      "차원=2, 구조=(3, 2), 총갯수=6\n",
      "\n",
      "[[ 30  80 100]\n",
      " [ 79  80 100]]\n",
      "차원=2, 구조=(2, 3), 총갯수=6\n",
      "\n",
      "오류 발생!\n",
      "reshape(-1,3)으로 강제 반환합니다.\n",
      "[[ 30  80 100]\n",
      " [ 79  80 100]]\n",
      "차원=2, 구조=(2, 3), 총갯수=6\n",
      "\n"
     ]
    }
   ],
   "source": [
    "# reshape(행수, 열수) | reshape(-1, 열수)\n",
    "# -1, n => \"-1 부분은 너가 알아서 하고, n개 요소씩 담아서 배열로 만들어 줘\"\n",
    "npArr8=np.array([30, 80, 100, 79, 80, 100])\n",
    "print(npArr8)\n",
    "print(f'차원={npArr8.ndim}, 구조={npArr8.shape}, 총갯수={npArr8.size}\\n')\n",
    "\n",
    "npArr9=npArr8.reshape(-1,2)\n",
    "print(npArr9)\n",
    "print(f'차원={npArr9.ndim}, 구조={npArr9.shape}, 총갯수={npArr9.size}\\n')\n",
    "\n",
    "npArr10=npArr8.reshape(-1,3)\n",
    "print(npArr10)\n",
    "print(f'차원={npArr10.ndim}, 구조={npArr10.shape}, 총갯수={npArr10.size}\\n')\n",
    "\n",
    "try:\n",
    "    npArr10=npArr8.reshape(-1,5)\n",
    "    print(npArr10)\n",
    "    print(f'차원={npArr10.ndim}, 구조={npArr10.shape}, 총갯수={npArr10.size}\\n')\n",
    "except:\n",
    "    print('오류 발생!')\n",
    "    print('reshape(-1,3)으로 강제 반환합니다.')\n",
    "finally:\n",
    "    npArr10=npArr8.reshape(-1,3)\n",
    "    print(npArr10)\n",
    "    print(f'차원={npArr10.ndim}, 구조={npArr10.shape}, 총갯수={npArr10.size}\\n')"
   ]
  },
  {
   "cell_type": "markdown",
   "id": "831e6275",
   "metadata": {},
   "source": [
    "### 배열의 축 변경\n",
    "- 넘파이배열명.T\n",
    "- T는 Transpose. 행과 열이 서로 변경된다.\n",
    "- 넘파이배열명.swapaxes(0, 1), 넘파이배열명.swapaxes(1, 0)"
   ]
  },
  {
   "cell_type": "code",
   "execution_count": 170,
   "id": "a5c3ba62",
   "metadata": {},
   "outputs": [
    {
     "name": "stdout",
     "output_type": "stream",
     "text": [
      "[[ 1  2  3]\n",
      " [ 4  5  6]\n",
      " [ 7  8  9]\n",
      " [10 11 12]]\n",
      "\n",
      "arr1의 행과 열이 서로 변경!\n",
      "[[ 1  4  7 10]\n",
      " [ 2  5  8 11]\n",
      " [ 3  6  9 12]]\n",
      "===================\n",
      "[[ 1  4  7 10]\n",
      " [ 2  5  8 11]\n",
      " [ 3  6  9 12]]\n",
      "\n",
      "[[ 1  2  3]\n",
      " [ 4  5  6]\n",
      " [ 7  8  9]\n",
      " [10 11 12]]\n"
     ]
    }
   ],
   "source": [
    "arr1 = np.arange(1,13).reshape(4,3)\n",
    "print(arr1)\n",
    "print()\n",
    "# 행, 열 변경\n",
    "print('arr1의 행과 열이 서로 변경!')\n",
    "print(arr1.T)\n",
    "print('===================')\n",
    "\n",
    "arr2 = arr1.swapaxes(0,1)\n",
    "print(arr2)\n",
    "print()\n",
    "\n",
    "arr3 = arr2.swapaxes(1,0)\n",
    "print(arr3)"
   ]
  },
  {
   "cell_type": "markdown",
   "id": "f768bfbd",
   "metadata": {},
   "source": [
    "## 행열 연산"
   ]
  },
  {
   "cell_type": "code",
   "execution_count": 186,
   "id": "a3574601",
   "metadata": {},
   "outputs": [
    {
     "name": "stdout",
     "output_type": "stream",
     "text": [
      "[1, 2, 3, 4, 5, 10, 20, 30, 40, 50]\n",
      "[11 22 33 44 55]\n",
      "[1, 2, 3, 4, 5, 1, 2, 3, 4, 5, 1, 2, 3, 4, 5]\n",
      "[ 3  6  9 12 15]\n",
      "[0 0 1 1 1]\n"
     ]
    }
   ],
   "source": [
    "# 넘파이 배열 연산\n",
    "# 같은 인덱스 위치끼리 연산 가능\n",
    "\n",
    "list1 = [1,2,3,4,5]\n",
    "list2 = [10,20,30,40,50]\n",
    "arr1 = np.array([1,2,3,4,5])\n",
    "arr2 = np.array([10,20,30,40,50])\n",
    "\n",
    "print(list1+list2)\n",
    "print(arr1+arr2)\n",
    "\n",
    "print(list1*3)\n",
    "print(arr1*3)\n",
    "\n",
    "# print(list1//3) # error!\n",
    "print(arr1//3)"
   ]
  },
  {
   "cell_type": "code",
   "execution_count": 184,
   "id": "7507b700",
   "metadata": {},
   "outputs": [
    {
     "name": "stdout",
     "output_type": "stream",
     "text": [
      "[30 32 34 36 38 40]\n",
      "[10 10 10 10 10 10]\n",
      "[200 231 264 299 336 375]\n",
      "[2 1 1 1 1 1]\n",
      "[100 105 110 115 120 125]\n",
      "[400 441 484 529 576 625]\n"
     ]
    }
   ],
   "source": [
    "# arange로 범위 단위 연산 가능\n",
    "arr1 = np.arange(20,26)\n",
    "arr2 = np.arange(10,16)\n",
    "\n",
    "print(arr1 + arr2)\n",
    "print(arr1 - arr2)\n",
    "print(arr1 * arr2)\n",
    "print(arr1 // arr2) # 정수 몫\n",
    "# print(arr1 / arr2)\n",
    "print(arr1*5)\n",
    "print(arr1**2)"
   ]
  },
  {
   "cell_type": "markdown",
   "id": "4aa04825",
   "metadata": {},
   "source": [
    "### 배열의 인덱싱과 슬라이싱\n",
    "- 1차원인 경우 - 넘파이배열이름[위치인덱스값]\n",
    "- 2차원인 경우 - 넘파이배열이름[행,열] = 넘파이배열이름[행][열]"
   ]
  },
  {
   "cell_type": "raw",
   "id": "c7d63963",
   "metadata": {},
   "source": [
    "넘파이배열이름[start:end]\n",
    "넘파이배열이름[start:]\n",
    "넘파이배열이름[:end]\n",
    "넘파이배열이름[:]\n",
    "넘파이배열이름[start:end:step]\n",
    "넘파이배열이름[start::step]\n",
    "넘파이배열이름[:end:step]\n",
    "넘파이배열이름[::] => 모든 것; 배열 안의 모든 값들\n",
    "넘파이배열이름[start1:end1, start2:end2]\n",
    "넘파이배열이름[start1:, start2:]\n",
    "넘파이배열이름[:,:] = 넘파이배열이름[::,::]\n",
    "넘파이배열이름[start1:end1:step1, start2:end2:step2]\n",
    "넘파이배열이름[start1::step1, start2::step2]"
   ]
  },
  {
   "cell_type": "code",
   "execution_count": 191,
   "id": "4859d953",
   "metadata": {},
   "outputs": [
    {
     "name": "stdout",
     "output_type": "stream",
     "text": [
      "[[100 200 300 400]\n",
      " [  1   2   3   4]\n",
      " [  5   6   7   8]\n",
      " [500 600 700 800]] \n",
      "\n",
      "[[  5   6   7   8]\n",
      " [500 600 700 800]] 3,4 행 출력\n",
      "\n",
      "[[100 200 300 400]\n",
      " [  5   6   7   8]] 1, 3행 출력\n",
      "\n",
      "[[  1   2   3   4]\n",
      " [500 600 700 800]] 2, 4행 출력\n",
      "\n"
     ]
    }
   ],
   "source": [
    "listB = [[100, 200, 300, 400],[1, 2, 3, 4],[5, 6, 7, 8],[500, 600, 700, 800]]\n",
    "npB = np.array(listB)\n",
    "\n",
    "print(npB, '\\n')\n",
    "print(npB[2::, ::],'3,4 행 출력\\n') # 3,4 행 출력\n",
    "print(npB[::2][::],'1, 3행 출력\\n') # 1, 3행 출력\n",
    "print(npB[1::2, ::],'2, 4행 출력\\n') # 2, 4행 출력"
   ]
  },
  {
   "cell_type": "code",
   "execution_count": 199,
   "id": "5f346a5c",
   "metadata": {},
   "outputs": [
    {
     "name": "stdout",
     "output_type": "stream",
     "text": [
      "50\n",
      "20\n",
      "[20 30]\n",
      "[20 40]\n"
     ]
    }
   ],
   "source": [
    "# 1차원 배열의 인덱싱과 슬라이싱\n",
    "arr1 = np.array([10,20,30,40,50])\n",
    "print(arr1[-1])\n",
    "print(arr1[1])\n",
    "print(arr1[1:3])\n",
    "print(arr1[1::2])"
   ]
  },
  {
   "cell_type": "code",
   "execution_count": 211,
   "id": "187f4d13",
   "metadata": {},
   "outputs": [
    {
     "name": "stdout",
     "output_type": "stream",
     "text": [
      "[[100 200 300 400]\n",
      " [  1   2   3   4]\n",
      " [  5   6   7   8]\n",
      " [500 600 700 800]]\n",
      "4 4\n",
      "[[100 200 300 400]\n",
      " [  1   2   3   4]]\n",
      "[[100 200]\n",
      " [  1   2]\n",
      " [  5   6]\n",
      " [500 600]]\n",
      "[[300 400]\n",
      " [  3   4]\n",
      " [  7   8]\n",
      " [700 800]]\n",
      "[[2 3]\n",
      " [6 7]]\n"
     ]
    }
   ],
   "source": [
    "# 2차원 배열의 인덱싱과 슬라이싱\n",
    "# 넘파이배열명[행인덱스, 열인덱스] | 넘파이배열명[행인덱스][열인덱스] \n",
    "arr2 = np.array([[100,200,300,400],\n",
    "                [1,2,3,4],\n",
    "                [5,6,7,8],\n",
    "                [500,600,700,800]])\n",
    "print(arr2)\n",
    "print(arr2[1,3], arr2[1][3])\n",
    "print(arr2[0:2, ::])\n",
    "print(arr2[::, :2:])\n",
    "print(arr2[::, 2::])\n",
    "print(arr2[1:3:, 1:3:])"
   ]
  },
  {
   "cell_type": "code",
   "execution_count": 26,
   "id": "e94d701a",
   "metadata": {},
   "outputs": [
    {
     "name": "stdout",
     "output_type": "stream",
     "text": [
      "[[ 1  2  3  4  5]\n",
      " [ 6  7  8  9 10]\n",
      " [11 12 13 14 15]]\n",
      "\n",
      "[[ 1  3  5]\n",
      " [ 6  8 10]\n",
      " [11 13 15]] \n",
      "\n",
      "[[ 1  4]\n",
      " [11 14]] \n",
      "\n",
      "[[ 1  2  3  4  5]\n",
      " [11 12 13 14 15]]\n"
     ]
    }
   ],
   "source": [
    "# 슬라이드 33 퀴즈\n",
    "'''\n",
    "1) 1~15 구성된 넘파이 배열을 3행 5열로 구성하고 1,3,5 열만 출력하여라\n",
    "2) 1~15 구성된 넘파이 배열을 3행 5열로 구성하고 1행1열, 1행4열, 3행1열, 3행 4\n",
    "열만 출력하여라\n",
    "3) 1~15 구성된 넘파이 배열을 3행 5열로 구성하고 홀수번째 행만 출력하여라\n",
    "'''\n",
    "matrix_3_5 = np.arange(1,16)[::].reshape(3, 5)\n",
    "print(matrix_3_5)\n",
    "print()\n",
    "\n",
    "# 1)\n",
    "print(matrix_3_5[::,::2], '\\n')\n",
    "\n",
    "# 2)\n",
    "print(matrix_3_5[::2,::3], '\\n')\n",
    "\n",
    "# 3)\n",
    "print(matrix_3_5[::2,::])"
   ]
  },
  {
   "cell_type": "markdown",
   "id": "4edcecc8",
   "metadata": {},
   "source": [
    "### 배열의 데이타 교체\n",
    "- 넘파이배열명[index] = 값\n",
    "- 넘파이배열명[rowIndex][columnIndex] = 값"
   ]
  },
  {
   "cell_type": "code",
   "execution_count": 213,
   "id": "19c85c50",
   "metadata": {},
   "outputs": [
    {
     "name": "stdout",
     "output_type": "stream",
     "text": [
      "[ 1  2  3  4  5  6  7  8  9 10]\n",
      "[10  2  3  4  5  6  7  8  9 10]\n",
      "[ 10   2   3   4   5   6   7   8   9 100]\n",
      "[10  2  3  4  5  6  7  0  0  0]\n",
      "[  10 -100 -100    4    5    6    7    0    0    0]\n"
     ]
    }
   ],
   "source": [
    "arr = np.arange(1,11)\n",
    "print(arr)\n",
    "\n",
    "arr[0] = 10\n",
    "print(arr)\n",
    "\n",
    "arr[-1] = 100\n",
    "print(arr)\n",
    "\n",
    "arr[7:] = 0\n",
    "print(arr)\n",
    "\n",
    "arr[1:3] = -100\n",
    "print(arr)"
   ]
  },
  {
   "cell_type": "code",
   "execution_count": 214,
   "id": "e9136de7",
   "metadata": {},
   "outputs": [
    {
     "name": "stdout",
     "output_type": "stream",
     "text": [
      "[[0 0 0 0 0]\n",
      " [0 0 0 0 0]\n",
      " [0 0 0 0 0]] \n",
      "\n",
      "[[10  0  0  0  0]\n",
      " [ 0  0  0  0  0]\n",
      " [ 0  0  0  0  0]] \n",
      "\n",
      "[[10  0  0  0  0]\n",
      " [ 0  0  0  0  0]\n",
      " [ 0  0  0  0 20]] \n",
      "\n",
      "[[10  0  0  0  0]\n",
      " [30 30 30 30 30]\n",
      " [ 0  0  0  0 20]] \n",
      "\n",
      "[[10 40  0  0  0]\n",
      " [30 40 30 30 30]\n",
      " [ 0 40  0  0 20]] \n",
      "\n"
     ]
    }
   ],
   "source": [
    "arr2d = np.zeros([3, 5], dtype=int)\n",
    "print(arr2d, '\\n')\n",
    "\n",
    "arr2d[0, 0] = 10\n",
    "print(arr2d, '\\n')\n",
    "\n",
    "arr2d[-1, -1] = 20\n",
    "print(arr2d, '\\n')\n",
    "\n",
    "arr2d[1, ::] = 30\n",
    "print(arr2d, '\\n')\n",
    "\n",
    "arr2d[::, 1] = 40\n",
    "print(arr2d, '\\n')"
   ]
  },
  {
   "cell_type": "code",
   "execution_count": 218,
   "id": "e5829d2d",
   "metadata": {},
   "outputs": [
    {
     "name": "stdout",
     "output_type": "stream",
     "text": [
      "[[0. 0. 0. 0. 0. 0. 0.]\n",
      " [0. 0. 0. 0. 0. 0. 0.]\n",
      " [0. 0. 0. 0. 0. 0. 0.]] \n",
      "\n",
      "[[0.5 0.  0.5 0.  0.5 0.  0.5]\n",
      " [0.5 0.  0.5 0.  0.5 0.  0.5]\n",
      " [0.5 0.  0.5 0.  0.5 0.  0.5]] \n",
      "\n",
      "[[0.5  0.   0.5  0.   0.5  0.   0.5 ]\n",
      " [0.5  3.14 3.14 3.14 0.5  0.   0.5 ]\n",
      " [0.5  3.14 3.14 3.14 0.5  0.   0.5 ]] \n",
      "\n"
     ]
    }
   ],
   "source": [
    "# zeros 초기값은 실수형 => 정수형으로 변환하고 싶으면 dtype=int\n",
    "arr2d = np.zeros([3, 7])\n",
    "print(arr2d, '\\n')\n",
    "# print(arr2d.dtype)\n",
    "\n",
    "arr2d[::, ::2] = 0.5\n",
    "print(arr2d, '\\n')\n",
    "\n",
    "arr2d[1::, 1:4:] = 3.14\n",
    "print(arr2d, '\\n')"
   ]
  },
  {
   "cell_type": "code",
   "execution_count": 227,
   "id": "d46b499d",
   "metadata": {},
   "outputs": [
    {
     "name": "stdout",
     "output_type": "stream",
     "text": [
      "[[0. 0. 0. 0. 0.]\n",
      " [0. 0. 0. 0. 0.]\n",
      " [0. 0. 0. 0. 0.]\n",
      " [0. 0. 0. 0. 0.]]\n",
      "[[ 0.   0.   0.   0.   0. ]\n",
      " [ 0.   0.  -5.5  0.   0. ]\n",
      " [ 0.   0.   0.   0.   0. ]\n",
      " [ 0.   0.   0.   0.   0. ]]\n",
      "[[ 3.3  3.3  3.3  3.3  3.3]\n",
      " [ 0.   0.  -5.5  0.   0. ]\n",
      " [ 0.   0.   0.   0.   0. ]\n",
      " [ 0.   0.   0.   0.   0. ]]\n",
      "[[ 3.3  3.3  3.3  3.3  2.2]\n",
      " [ 0.   0.  -5.5  0.   2.2]\n",
      " [ 0.   0.   0.   0.   2.2]\n",
      " [ 0.   0.   0.   0.   2.2]]\n",
      "[[ 3.3  3.3  3.3  3.3  2.2]\n",
      " [ 0.   0.  -5.5  0.   2.2]\n",
      " [ 0.   0.   1.1  1.1  2.2]\n",
      " [ 0.   0.   1.1  1.1  2.2]]\n"
     ]
    }
   ],
   "source": [
    "arr1 = np.zeros([4,5])\n",
    "print(arr1)\n",
    "\n",
    "arr1[1,2] = -5.5\n",
    "print(arr1)\n",
    "\n",
    "arr1[0, ::] = 3.3\n",
    "print(arr1)\n",
    "\n",
    "arr1[::, -1] = 2.2\n",
    "print(arr1)\n",
    "\n",
    "arr1[2:4:, 2:4:] = 1.1\n",
    "print(arr1)"
   ]
  }
 ],
 "metadata": {
  "kernelspec": {
   "display_name": "Python 3 (ipykernel)",
   "language": "python",
   "name": "python3"
  },
  "language_info": {
   "codemirror_mode": {
    "name": "ipython",
    "version": 3
   },
   "file_extension": ".py",
   "mimetype": "text/x-python",
   "name": "python",
   "nbconvert_exporter": "python",
   "pygments_lexer": "ipython3",
   "version": "3.10.9"
  }
 },
 "nbformat": 4,
 "nbformat_minor": 5
}
