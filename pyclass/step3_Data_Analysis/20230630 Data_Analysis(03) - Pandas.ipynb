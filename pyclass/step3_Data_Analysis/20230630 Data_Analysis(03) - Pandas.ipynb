{
 "cells": [
  {
   "cell_type": "markdown",
   "id": "8999fbdd",
   "metadata": {},
   "source": [
    "# Pandas\n",
    "- 데이터 처리와 분석을 위한 파이썬 라이브러리\n",
    "- R의 data.frame을 본떠서 설계한 DataFrame이라는 데이터 구조를 기반으로 제작\n",
    "- 각 열의 데이터 타입이 달라도 되며 엑셀의 스프레드시트와 비슷한 테이블 형태 제공.\n",
    "- 파이썬계의 엑셀\n",
    "- http://pandas.pydata.org"
   ]
  },
  {
   "cell_type": "code",
   "execution_count": 1,
   "id": "21368f25",
   "metadata": {},
   "outputs": [],
   "source": [
    "import numpy as np\n",
    "import pandas as pd"
   ]
  },
  {
   "cell_type": "markdown",
   "id": "baed6479",
   "metadata": {},
   "source": [
    "## 판다스의 자료구조\n",
    "-  시리즈(Series) : 리스트와 딕셔너리 두가지의 특징을 혼합한 형태.\n",
    "     - 세로 형태로 키와 값의 조합으로 표시된다.\n",
    "     - 넘파이 배열이 데이터 값으로 구성된다\n",
    "-  데이타프레임(DataFrame) : Row와 Column으로 이뤄진 2차원 형태의 자료구조.\n",
    "     - 시리즈(Series)의 결합체"
   ]
  },
  {
   "cell_type": "markdown",
   "id": "346e101f",
   "metadata": {},
   "source": [
    "## 시리즈\n",
    "- 시리즈(Series)란?\n",
    "    - 인덱스와 데이터 값으로 구성된 데이터 구조\n",
    "- 1차원 집합형 자료구조\n",
    "- 리스트, 딕셔너리와의 차이점은? 키가 있고 세로로 출력\n",
    "- 시리즈이름 = pd.Series([리스트]) : 숫자키(인덱스)\n",
    "- 시리즈이름 = pd.Series({딕셔너리}) : 키\n",
    "- 시리즈이름 = pd.Series(넘파이배열 np.arange() 등) : 숫자키(인덱스)"
   ]
  },
  {
   "cell_type": "code",
   "execution_count": 8,
   "id": "5481ec36",
   "metadata": {},
   "outputs": [
    {
     "name": "stdout",
     "output_type": "stream",
     "text": [
      "[100, 23, 56, 78, -89] \n",
      "\n",
      "<class 'pandas.core.series.Series'> \n",
      "\n",
      "0    100\n",
      "1     23\n",
      "2     56\n",
      "3     78\n",
      "4    -89\n",
      "dtype: int64\n"
     ]
    }
   ],
   "source": [
    "# 리스트 => 판다스의 시리즈\n",
    "myList = [100, 23, 56, 78, -89]\n",
    "print(myList, '\\n')\n",
    "\n",
    "s1 = pd.Series(myList)\n",
    "print(type(s1), '\\n')\n",
    "print(s1)"
   ]
  },
  {
   "cell_type": "code",
   "execution_count": 11,
   "id": "e8ec902a",
   "metadata": {},
   "outputs": [
    {
     "name": "stdout",
     "output_type": "stream",
     "text": [
      "{'b': 'banana', 'p': 'python', 'm': 'mysql', 'f': 'flask'} \n",
      "\n",
      "b    banana\n",
      "p    python\n",
      "m     mysql\n",
      "f     flask\n",
      "dtype: object\n"
     ]
    }
   ],
   "source": [
    "# 딕셔너리 => 판다스의 시리즈\n",
    "mydict = {'b':'banana', 'p':'python', 'm':'mysql', 'f':'flask'}\n",
    "print(mydict, '\\n')\n",
    "          \n",
    "s2 = pd.Series(mydict)\n",
    "print(s2)"
   ]
  },
  {
   "cell_type": "code",
   "execution_count": 33,
   "id": "c968bca3",
   "metadata": {},
   "outputs": [
    {
     "name": "stdout",
     "output_type": "stream",
     "text": [
      "[25 14 26 38  8] \n",
      "\n",
      "0    25\n",
      "1    14\n",
      "2    26\n",
      "3    38\n",
      "4     8\n",
      "dtype: int32\n"
     ]
    }
   ],
   "source": [
    "# 넘파이배열 => 판다스의 시리즈\n",
    "arr=np.random.randint(1, 51, 5)\n",
    "print(arr, '\\n')\n",
    "\n",
    "s3 = pd.Series(arr)\n",
    "print(s3)"
   ]
  },
  {
   "cell_type": "code",
   "execution_count": 43,
   "id": "673a9033",
   "metadata": {},
   "outputs": [
    {
     "name": "stdout",
     "output_type": "stream",
     "text": [
      "0    70\n",
      "1    80\n",
      "2    81\n",
      "3    37\n",
      "4    16\n",
      "dtype: int32 \n",
      "\n",
      "일    70\n",
      "이    80\n",
      "삼    81\n",
      "사    37\n",
      "오    16\n",
      "dtype: int32 \n",
      "\n",
      "101     사과\n",
      "201    바나나\n",
      "301     포도\n",
      "401     레몬\n",
      "dtype: object \n",
      "\n"
     ]
    }
   ],
   "source": [
    "'''\n",
    "- 키인덱스 설정\n",
    "- 시리즈변수 = pd.Series(데이타, index=[값,값2...])\n",
    "- 시리즈의 데이타 먼저 생성 후 인덱스 설정\n",
    "- 시리즈변수 = pd.Series(데이타)\n",
    "- 시리즈변수.index=[값,값2...]\n",
    "'''\n",
    "\n",
    "s1 = pd.Series(np.random.randint(1, 100, 5))\n",
    "print(s1, '\\n')\n",
    "s1.index = ['일','이','삼','사','오']\n",
    "print(s1,'\\n')\n",
    "\n",
    "# 인덱스명은 위, 아래의 두 방법 모두 가능하며, 재설정도 가능!\n",
    "s2 = pd.Series(['사과','바나나', '포도', '레몬'], index=[101, 201, 301, 401])\n",
    "print(s2,'\\n')\n",
    "\n",
    "# s2.index = False # TypeError"
   ]
  },
  {
   "cell_type": "code",
   "execution_count": 50,
   "id": "55ff5c34",
   "metadata": {},
   "outputs": [
    {
     "name": "stdout",
     "output_type": "stream",
     "text": [
      "myTestIndex\n",
      "101     사과\n",
      "201    바나나\n",
      "301     포도\n",
      "401     레몬\n",
      "Name: myTestName, dtype: object \n",
      "\n"
     ]
    }
   ],
   "source": [
    "# 시리즈 속성\n",
    "'''\n",
    "- 인덱스값 : index\n",
    "- 데이타값 : values\n",
    "- 시리즈인덱스명 : index.name => 인덱스의 대표 이름(IDX) 주는 것 뿐\n",
    "- 시리즈명 : name\n",
    "'''\n",
    "\n",
    "s2.index.name = 'myTestIndex'\n",
    "s2.name = 'myTestName'\n",
    "print(s2,'\\n')\n",
    "\n"
   ]
  },
  {
   "cell_type": "code",
   "execution_count": 52,
   "id": "e7df1083",
   "metadata": {},
   "outputs": [
    {
     "name": "stdout",
     "output_type": "stream",
     "text": [
      "Int64Index([101, 201, 301, 401], dtype='int64') \n",
      "\n",
      "['사과' '바나나' '포도' '레몬'] \n",
      "\n",
      "object \n",
      "\n",
      "int64 \n",
      "\n",
      "101     사과\n",
      "201    바나나\n",
      "301     포도\n",
      "401     레몬\n",
      "dtype: object\n"
     ]
    }
   ],
   "source": [
    "s = pd.Series(['사과','바나나', '포도', '레몬'], index=[101, 201, 301, 401])\n",
    "print(s.index, '\\n')\n",
    "print(s.values, '\\n') \n",
    "print(s.dtype, '\\n')\n",
    "print(s.index.dtype, '\\n')\n",
    "print(s)"
   ]
  },
  {
   "cell_type": "code",
   "execution_count": 56,
   "id": "a134cd0a",
   "metadata": {},
   "outputs": [
    {
     "name": "stdout",
     "output_type": "stream",
     "text": [
      "RangeIndex(start=0, stop=10, step=1) \n",
      "\n",
      "[60 61 47 25 32 44 91 44 14 24] <class 'numpy.ndarray'> \n",
      "\n",
      "int32 int64 \n",
      "\n",
      "0    60\n",
      "1    61\n",
      "2    47\n",
      "3    25\n",
      "4    32\n",
      "5    44\n",
      "6    91\n",
      "7    44\n",
      "8    14\n",
      "9    24\n",
      "dtype: int32\n"
     ]
    }
   ],
   "source": [
    "s2 = pd.Series(np.random.randint(1,100,10))\n",
    "print(s2.index, '\\n') # RangeIndex(start, stop, step)\n",
    "print(s2.values, type(s2.values), '\\n')\n",
    "print(s2.dtype, s2.index.dtype, '\\n')\n",
    "print(s2)"
   ]
  },
  {
   "cell_type": "code",
   "execution_count": 55,
   "id": "42f339e5",
   "metadata": {},
   "outputs": [
    {
     "name": "stdout",
     "output_type": "stream",
     "text": [
      "사과     2000\n",
      "바나나    4000\n",
      "포도     5000\n",
      "레몬     1500\n",
      "dtype: int64 \n",
      "\n",
      "사과 2000 \n",
      "\n",
      "포도의 가격은 5000입니다.\n",
      "포도의 가격은 5000입니다.\n"
     ]
    }
   ],
   "source": [
    "fruitSeries = pd.Series([2000, 4000, 5000, 1500], index=['사과', '바나나', '포도', '레몬'])\n",
    "print(fruitSeries, '\\n')\n",
    "print(fruitSeries.index[0] , fruitSeries[0], '\\n')\n",
    "\n",
    "# 인덱싱: 숫자 위치 형태나 정의된 키로 조회 가능 => cf) Python의 Dict는 키로만 접근 가능\n",
    "print(f'{fruitSeries.index[2]}의 가격은 {fruitSeries[2]}입니다.')\n",
    "print(f'{fruitSeries.index[2]}의 가격은 {fruitSeries[\"포도\"]}입니다.')"
   ]
  },
  {
   "cell_type": "code",
   "execution_count": 58,
   "id": "52aa6215",
   "metadata": {},
   "outputs": [
    {
     "name": "stdout",
     "output_type": "stream",
     "text": [
      "{'Charles': 35000, 'Julia': 71000, 'Hayoung': 16000, 'Sangjae': 5000} \n",
      "\n",
      "Charles    35000\n",
      "Julia      71000\n",
      "Hayoung    16000\n",
      "Sangjae     5000\n",
      "dtype: int64 \n",
      "\n",
      "Index(['Charles', 'Julia', 'Hayoung', 'Sangjae'], dtype='object') \n",
      "\n",
      "['Charles', 'Julia', 'Hayoung', 'Sangjae']\n"
     ]
    }
   ],
   "source": [
    "sdata = {\"Charles\": 35000, \"Julia\":71000, \"Hayoung\":16000, \"Sangjae\":5000}\n",
    "print(sdata , '\\n')\n",
    "\n",
    "s1 = pd.Series(sdata)\n",
    "print(s1 , '\\n')\n",
    "print(s1.index , '\\n')\n",
    "print(list(s1.index))"
   ]
  },
  {
   "cell_type": "code",
   "execution_count": 61,
   "id": "e03e8533",
   "metadata": {},
   "outputs": [
    {
     "name": "stdout",
     "output_type": "stream",
     "text": [
      "{'Charles': 100, 'Julia': 75, 'Hayoung': 80, 'Sangjae': 50} \n",
      "\n",
      "ST_Name\n",
      "Charles    100\n",
      "Julia       75\n",
      "Hayoung     80\n",
      "Sangjae     50\n",
      "Name: Score, dtype: int64 \n",
      "\n"
     ]
    }
   ],
   "source": [
    "sdata = {\"Charles\": 100, \"Julia\":75, \"Hayoung\":80, \"Sangjae\":50}\n",
    "print(sdata , '\\n')\n",
    "\n",
    "s1 = pd.Series(sdata)\n",
    "\n",
    "s1.index.name ='ST_Name'\n",
    "\n",
    "s1.name = 'Score'\n",
    "print(s1, '\\n')"
   ]
  },
  {
   "cell_type": "code",
   "execution_count": null,
   "id": "7eff9754",
   "metadata": {},
   "outputs": [],
   "source": [
    "# 슬라이드 82, 83 퀴즈"
   ]
  },
  {
   "cell_type": "code",
   "execution_count": 65,
   "id": "08734004",
   "metadata": {},
   "outputs": [
    {
     "name": "stdout",
     "output_type": "stream",
     "text": [
      "a    아파트\n",
      "b    바나나\n",
      "c    고양이\n",
      "dtype: object\n",
      "\n",
      "a    아파트\n",
      "b    바나나\n",
      "c    고양이\n",
      "dtype: object\n"
     ]
    }
   ],
   "source": [
    "# 82 퀴즈\n",
    "'''\n",
    "1) 딕셔너리 생성 {'a': 'apart', 'b': 'banana', 'c': 'cat'}\n",
    "2) 리스트 생성 ['아파트', '바나나', '고양이']\n",
    "3) 1번의 키값 + 2번의 데이타 => 시리즈생성\n",
    "'''\n",
    "\n",
    "abcDict = {'a': 'apart', 'b': 'banana', 'c': 'cat'}\n",
    "wordList = ['아파트', '바나나', '고양이']\n",
    "\n",
    "mySeries = pd.Series(wordList, index = abcDict)\n",
    "print(mySeries)\n",
    "print()\n",
    "\n",
    "mySeries2 = pd.Series(wordList, index = abcDict.keys())\n",
    "print(mySeries2)"
   ]
  },
  {
   "cell_type": "code",
   "execution_count": 70,
   "id": "231aa7b5",
   "metadata": {},
   "outputs": [
    {
     "name": "stdout",
     "output_type": "stream",
     "text": [
      "과목\n",
      "국어     90\n",
      "수학     80\n",
      "영어    100\n",
      "과학     55\n",
      "역사     70\n",
      "Name: 중간고사성적표, dtype: int64\n",
      "평균= 79.0\n"
     ]
    }
   ],
   "source": [
    "# 83 퀴즈\n",
    "'''\n",
    "시리즈를 생성하고 평균값을 출력하여라\n",
    "'''\n",
    "\n",
    "subjectDict = {'국어':90,'수학':80,'영어':100,'과학':55,'역사':70}\n",
    "mySeries3 = pd.Series(subjectDict.values(), index = subjectDict.keys())\n",
    "mySeries3.name = '중간고사성적표'\n",
    "mySeries3.index.name = '과목'\n",
    "myAvg = sum(mySeries3)/len(mySeries3)\n",
    "\n",
    "print(mySeries3)\n",
    "print('평균=', myAvg)"
   ]
  },
  {
   "cell_type": "code",
   "execution_count": 132,
   "id": "9051b3a1",
   "metadata": {},
   "outputs": [
    {
     "name": "stdout",
     "output_type": "stream",
     "text": [
      "과목\n",
      "국어     90\n",
      "수학     80\n",
      "영어    100\n",
      "과학     55\n",
      "역사     70\n",
      "Name: 중간고사성적표, dtype: int64\n",
      "평균 = 79.0\n"
     ]
    }
   ],
   "source": [
    "# 83 퀴즈\n",
    "# .mean()\n",
    "score = pd.Series([90, 80, 100, 55, 70], \n",
    "                  index=['국어','수학','영어', '과학', '역사'])\n",
    "score.name = '중간고사성적표'\n",
    "score.index.name = '과목'\n",
    "print(score)\n",
    "print(f'평균 = {score.mean()}')"
   ]
  },
  {
   "cell_type": "markdown",
   "id": "4144e6f3",
   "metadata": {},
   "source": [
    "## 데이타프레임 생성_01\n",
    "- 딕셔너리 리스트 => 데이타프레임\n",
    "- 딕셔너리 리스트 구조 : 딕셔너리 키 하나당 리스트 등 집합형 자료\n",
    "    - {키1:[값1, 값2 ], 키2:[값1, 값2 ]...}\n",
    "- 행의 인덱스가 숫자 / 컬럼인덱스는 딕셔너리의 키값\n",
    "- 데이타프레임변수 = pd.DataFrame(딕셔너리리스트)\n",
    "- 리스트의 길이는 동일해야 한다!"
   ]
  },
  {
   "cell_type": "code",
   "execution_count": 78,
   "id": "adc27382",
   "metadata": {},
   "outputs": [
    {
     "name": "stdout",
     "output_type": "stream",
     "text": [
      "<class 'dict'> \n",
      " {'user1': [30, 40, 80], 'user2': [67, 77, 88], 'user3': [90, 100, 90]} \n",
      "\n",
      "<class 'pandas.core.frame.DataFrame'> \n",
      "    user1  user2  user3\n",
      "0     30     67     90\n",
      "1     40     77    100\n",
      "2     80     88     90\n"
     ]
    }
   ],
   "source": [
    "dictList = {'user1':[30, 40, 80],\n",
    "            'user2':[67, 77, 88],\n",
    "            'user3':[90, 100, 90]}\n",
    "print(type(dictList),'\\n', dictList, '\\n')\n",
    "\n",
    "df = pd.DataFrame(dictList)\n",
    "print(type(df), '\\n', df)"
   ]
  },
  {
   "cell_type": "markdown",
   "id": "acbee37c",
   "metadata": {},
   "source": [
    "## 데이타프레임 생성_02\n",
    "- Nested Dictionary : 딕셔너리 안에 딕셔너리가 정의된 구조 { 메인키1: {키1-1:값1, 키1-2:값2 ... }, 메인키2: {키2-1:값1, 키2-2:값2 ... }}\n",
    "    - 메인키(Lv1) => 컬럼명 | 서브키(Lv2) => 로우명\n",
    "- 데이타프레임변수 = pd.DataFrame(Nested Dictionary)\n",
    "- 데이타프레임 생성시 메인 키는 컬럼으로 서브키는 행으로 정의"
   ]
  },
  {
   "cell_type": "code",
   "execution_count": 84,
   "id": "f154f5c8",
   "metadata": {},
   "outputs": [
    {
     "name": "stdout",
     "output_type": "stream",
     "text": [
      "{'Main1': {'sub1': 'value1', 'sub2': 'value2', 'sub3': 'value3'}, 'Main2': {'sub1': 'value1', 'sub2': 'value2', 'sub3': 'value3'}, 'Main3': {'sub1': 'value1', 'sub2': 'value2', 'sub3': 'value3'}}\n",
      "\n",
      "value3\n"
     ]
    },
    {
     "data": {
      "text/html": [
       "<div>\n",
       "<style scoped>\n",
       "    .dataframe tbody tr th:only-of-type {\n",
       "        vertical-align: middle;\n",
       "    }\n",
       "\n",
       "    .dataframe tbody tr th {\n",
       "        vertical-align: top;\n",
       "    }\n",
       "\n",
       "    .dataframe thead th {\n",
       "        text-align: right;\n",
       "    }\n",
       "</style>\n",
       "<table border=\"1\" class=\"dataframe\">\n",
       "  <thead>\n",
       "    <tr style=\"text-align: right;\">\n",
       "      <th></th>\n",
       "      <th>Main1</th>\n",
       "      <th>Main2</th>\n",
       "      <th>Main3</th>\n",
       "    </tr>\n",
       "  </thead>\n",
       "  <tbody>\n",
       "    <tr>\n",
       "      <th>sub1</th>\n",
       "      <td>value1</td>\n",
       "      <td>value1</td>\n",
       "      <td>value1</td>\n",
       "    </tr>\n",
       "    <tr>\n",
       "      <th>sub2</th>\n",
       "      <td>value2</td>\n",
       "      <td>value2</td>\n",
       "      <td>value2</td>\n",
       "    </tr>\n",
       "    <tr>\n",
       "      <th>sub3</th>\n",
       "      <td>value3</td>\n",
       "      <td>value3</td>\n",
       "      <td>value3</td>\n",
       "    </tr>\n",
       "  </tbody>\n",
       "</table>\n",
       "</div>"
      ],
      "text/plain": [
       "       Main1   Main2   Main3\n",
       "sub1  value1  value1  value1\n",
       "sub2  value2  value2  value2\n",
       "sub3  value3  value3  value3"
      ]
     },
     "execution_count": 84,
     "metadata": {},
     "output_type": "execute_result"
    }
   ],
   "source": [
    "# 이중(중첩)딕셔너리 구조 생성\n",
    "dictDictList = {'Main1':{'sub1':'value1','sub2':'value2','sub3':'value3'},\n",
    "                'Main2':{'sub1':'value1','sub2':'value2','sub3':'value3'},\n",
    "                'Main3':{'sub1':'value1','sub2':'value2','sub3':'value3'}}\n",
    "print(dictDictList)\n",
    "df = pd.DataFrame(dictDictList)\n",
    "\n",
    "print()\n",
    "print(dictDictList['Main2']['sub3'])\n",
    "\n",
    "# value data가 없는 경우 => NaN(결측치; Not a Number, null)\n",
    "df"
   ]
  },
  {
   "cell_type": "markdown",
   "id": "e0042c84",
   "metadata": {},
   "source": [
    "## 데이타프레임 생성_03\n",
    "- 컬럼별 출력 => 시리즈\n",
    "- 데이타프레임명[컬럼명], 데이타프레임명.컬럼명"
   ]
  },
  {
   "cell_type": "code",
   "execution_count": 101,
   "id": "0af9528d",
   "metadata": {},
   "outputs": [
    {
     "name": "stdout",
     "output_type": "stream",
     "text": [
      "<class 'pandas.core.series.Series'> \n",
      "\n",
      "\n"
     ]
    }
   ],
   "source": [
    "# 컬럼 조회\n",
    "'''\n",
    "1) 데이터프레임명[컬럼명] => 시리즈\n",
    "2) 데이터프레임명.컬럼명 => 시리즈\n",
    "3) 데이터프레임명[[컬럼명리스트...]] => 데이터프레임\n",
    "4) 데이터프레임명.loc[:, 컬럼명1:컬럼명2] => 데이타프레임 (컬럼위치 연속)\n",
    "5) 데이터프레임명.iloc[:, 컬럼명1:컬럼명2]\n",
    "    iloc => index location: 숫자 인덱스로 조회\n",
    "'''\n",
    "    \n",
    "# Main1 컬럼 조회\n",
    "print(type(df['Main1']), '\\n')\n",
    "print()"
   ]
  },
  {
   "cell_type": "code",
   "execution_count": 108,
   "id": "b48a76e2",
   "metadata": {},
   "outputs": [
    {
     "name": "stdout",
     "output_type": "stream",
     "text": [
      "<class 'pandas.core.series.Series'>\n"
     ]
    },
    {
     "data": {
      "text/plain": [
       "sub1    value1\n",
       "sub2    value2\n",
       "sub3    value3\n",
       "Name: Main1, dtype: object"
      ]
     },
     "execution_count": 108,
     "metadata": {},
     "output_type": "execute_result"
    }
   ],
   "source": [
    "print(type(df['Main1']))\n",
    "df['Main1']"
   ]
  },
  {
   "cell_type": "code",
   "execution_count": 106,
   "id": "a0f9c378",
   "metadata": {},
   "outputs": [
    {
     "name": "stdout",
     "output_type": "stream",
     "text": [
      "<class 'pandas.core.series.Series'>\n"
     ]
    },
    {
     "data": {
      "text/plain": [
       "sub1    value1\n",
       "sub2    value2\n",
       "sub3    value3\n",
       "Name: Main1, dtype: object"
      ]
     },
     "execution_count": 106,
     "metadata": {},
     "output_type": "execute_result"
    }
   ],
   "source": [
    "print(type(df.Main1))\n",
    "df.Main1"
   ]
  },
  {
   "cell_type": "code",
   "execution_count": 105,
   "id": "fc46deca",
   "metadata": {},
   "outputs": [
    {
     "name": "stdout",
     "output_type": "stream",
     "text": [
      "<class 'pandas.core.frame.DataFrame'>\n"
     ]
    },
    {
     "data": {
      "text/html": [
       "<div>\n",
       "<style scoped>\n",
       "    .dataframe tbody tr th:only-of-type {\n",
       "        vertical-align: middle;\n",
       "    }\n",
       "\n",
       "    .dataframe tbody tr th {\n",
       "        vertical-align: top;\n",
       "    }\n",
       "\n",
       "    .dataframe thead th {\n",
       "        text-align: right;\n",
       "    }\n",
       "</style>\n",
       "<table border=\"1\" class=\"dataframe\">\n",
       "  <thead>\n",
       "    <tr style=\"text-align: right;\">\n",
       "      <th></th>\n",
       "      <th>Main1</th>\n",
       "    </tr>\n",
       "  </thead>\n",
       "  <tbody>\n",
       "    <tr>\n",
       "      <th>sub1</th>\n",
       "      <td>value1</td>\n",
       "    </tr>\n",
       "    <tr>\n",
       "      <th>sub2</th>\n",
       "      <td>value2</td>\n",
       "    </tr>\n",
       "    <tr>\n",
       "      <th>sub3</th>\n",
       "      <td>value3</td>\n",
       "    </tr>\n",
       "  </tbody>\n",
       "</table>\n",
       "</div>"
      ],
      "text/plain": [
       "       Main1\n",
       "sub1  value1\n",
       "sub2  value2\n",
       "sub3  value3"
      ]
     },
     "execution_count": 105,
     "metadata": {},
     "output_type": "execute_result"
    }
   ],
   "source": [
    "print(type(df[['Main1']]))\n",
    "df[['Main1']]"
   ]
  },
  {
   "cell_type": "code",
   "execution_count": 111,
   "id": "170e2e6f",
   "metadata": {},
   "outputs": [
    {
     "name": "stdout",
     "output_type": "stream",
     "text": [
      "<class 'pandas.core.frame.DataFrame'>\n"
     ]
    },
    {
     "data": {
      "text/html": [
       "<div>\n",
       "<style scoped>\n",
       "    .dataframe tbody tr th:only-of-type {\n",
       "        vertical-align: middle;\n",
       "    }\n",
       "\n",
       "    .dataframe tbody tr th {\n",
       "        vertical-align: top;\n",
       "    }\n",
       "\n",
       "    .dataframe thead th {\n",
       "        text-align: right;\n",
       "    }\n",
       "</style>\n",
       "<table border=\"1\" class=\"dataframe\">\n",
       "  <thead>\n",
       "    <tr style=\"text-align: right;\">\n",
       "      <th></th>\n",
       "      <th>Main1</th>\n",
       "      <th>Main2</th>\n",
       "    </tr>\n",
       "  </thead>\n",
       "  <tbody>\n",
       "    <tr>\n",
       "      <th>sub1</th>\n",
       "      <td>value1</td>\n",
       "      <td>value1</td>\n",
       "    </tr>\n",
       "    <tr>\n",
       "      <th>sub2</th>\n",
       "      <td>value2</td>\n",
       "      <td>value2</td>\n",
       "    </tr>\n",
       "    <tr>\n",
       "      <th>sub3</th>\n",
       "      <td>value3</td>\n",
       "      <td>value3</td>\n",
       "    </tr>\n",
       "  </tbody>\n",
       "</table>\n",
       "</div>"
      ],
      "text/plain": [
       "       Main1   Main2\n",
       "sub1  value1  value1\n",
       "sub2  value2  value2\n",
       "sub3  value3  value3"
      ]
     },
     "execution_count": 111,
     "metadata": {},
     "output_type": "execute_result"
    }
   ],
   "source": [
    "print(type(df.loc[:, 'Main1':'Main2']))\n",
    "df.loc[:, 'Main1':'Main2']"
   ]
  },
  {
   "cell_type": "code",
   "execution_count": 116,
   "id": "ee7456da",
   "metadata": {},
   "outputs": [
    {
     "name": "stdout",
     "output_type": "stream",
     "text": [
      "<class 'pandas.core.frame.DataFrame'>\n"
     ]
    },
    {
     "data": {
      "text/html": [
       "<div>\n",
       "<style scoped>\n",
       "    .dataframe tbody tr th:only-of-type {\n",
       "        vertical-align: middle;\n",
       "    }\n",
       "\n",
       "    .dataframe tbody tr th {\n",
       "        vertical-align: top;\n",
       "    }\n",
       "\n",
       "    .dataframe thead th {\n",
       "        text-align: right;\n",
       "    }\n",
       "</style>\n",
       "<table border=\"1\" class=\"dataframe\">\n",
       "  <thead>\n",
       "    <tr style=\"text-align: right;\">\n",
       "      <th></th>\n",
       "      <th>Main2</th>\n",
       "      <th>Main3</th>\n",
       "    </tr>\n",
       "  </thead>\n",
       "  <tbody>\n",
       "    <tr>\n",
       "      <th>sub1</th>\n",
       "      <td>value1</td>\n",
       "      <td>value1</td>\n",
       "    </tr>\n",
       "    <tr>\n",
       "      <th>sub2</th>\n",
       "      <td>value2</td>\n",
       "      <td>value2</td>\n",
       "    </tr>\n",
       "    <tr>\n",
       "      <th>sub3</th>\n",
       "      <td>value3</td>\n",
       "      <td>value3</td>\n",
       "    </tr>\n",
       "  </tbody>\n",
       "</table>\n",
       "</div>"
      ],
      "text/plain": [
       "       Main2   Main3\n",
       "sub1  value1  value1\n",
       "sub2  value2  value2\n",
       "sub3  value3  value3"
      ]
     },
     "execution_count": 116,
     "metadata": {},
     "output_type": "execute_result"
    }
   ],
   "source": [
    "print(type(df.iloc[:, 0:2]))\n",
    "df.iloc[:, 1:3]"
   ]
  },
  {
   "cell_type": "code",
   "execution_count": 117,
   "id": "b58859bc",
   "metadata": {},
   "outputs": [
    {
     "name": "stdout",
     "output_type": "stream",
     "text": [
      "\n",
      " <class 'dict'>\n",
      "\n",
      " {'Nevada': {2001: 2.4, 2002: 2.9}, 'Ohio': {2000: 1.5, 2001: 1.7, 2002: 3.6}}\n"
     ]
    },
    {
     "data": {
      "text/html": [
       "<div>\n",
       "<style scoped>\n",
       "    .dataframe tbody tr th:only-of-type {\n",
       "        vertical-align: middle;\n",
       "    }\n",
       "\n",
       "    .dataframe tbody tr th {\n",
       "        vertical-align: top;\n",
       "    }\n",
       "\n",
       "    .dataframe thead th {\n",
       "        text-align: right;\n",
       "    }\n",
       "</style>\n",
       "<table border=\"1\" class=\"dataframe\">\n",
       "  <thead>\n",
       "    <tr style=\"text-align: right;\">\n",
       "      <th></th>\n",
       "      <th>Nevada</th>\n",
       "      <th>Ohio</th>\n",
       "    </tr>\n",
       "  </thead>\n",
       "  <tbody>\n",
       "    <tr>\n",
       "      <th>2001</th>\n",
       "      <td>2.4</td>\n",
       "      <td>1.7</td>\n",
       "    </tr>\n",
       "    <tr>\n",
       "      <th>2002</th>\n",
       "      <td>2.9</td>\n",
       "      <td>3.6</td>\n",
       "    </tr>\n",
       "    <tr>\n",
       "      <th>2000</th>\n",
       "      <td>NaN</td>\n",
       "      <td>1.5</td>\n",
       "    </tr>\n",
       "  </tbody>\n",
       "</table>\n",
       "</div>"
      ],
      "text/plain": [
       "      Nevada  Ohio\n",
       "2001     2.4   1.7\n",
       "2002     2.9   3.6\n",
       "2000     NaN   1.5"
      ]
     },
     "execution_count": 117,
     "metadata": {},
     "output_type": "execute_result"
    }
   ],
   "source": [
    "# 딕셔너리의 갯수가 틀린 경우\n",
    "pop = {'Nevada': { 2001:2.4, 2002:2.9 }, 'Ohio': { 2000:1.5, 2001:1.7, 2002:3.6 }}\n",
    "print('\\n', type(pop))\n",
    "print('\\n', pop)\n",
    "\n",
    "df_pop = pd.DataFrame(pop)\n",
    "df_pop"
   ]
  },
  {
   "cell_type": "markdown",
   "id": "f6aa650a",
   "metadata": {},
   "source": [
    "## 데이타프레임 생성_03\n",
    "- 인덱스명, 컬럼명 지정\n",
    "- pd.DataFrame(데이터 , columns=[컬럼리스트], index=[인덱스리스트])\n",
    "- columns = [컬럼리스트]\n",
    "- Index = [인덱스리스트]"
   ]
  },
  {
   "cell_type": "code",
   "execution_count": 120,
   "id": "8dde98e6",
   "metadata": {},
   "outputs": [
    {
     "name": "stdout",
     "output_type": "stream",
     "text": [
      "RangeIndex(start=0, stop=5, step=1)\n",
      "Index(['name', 'year', 'points'], dtype='object')\n"
     ]
    },
    {
     "data": {
      "text/html": [
       "<div>\n",
       "<style scoped>\n",
       "    .dataframe tbody tr th:only-of-type {\n",
       "        vertical-align: middle;\n",
       "    }\n",
       "\n",
       "    .dataframe tbody tr th {\n",
       "        vertical-align: top;\n",
       "    }\n",
       "\n",
       "    .dataframe thead th {\n",
       "        text-align: right;\n",
       "    }\n",
       "</style>\n",
       "<table border=\"1\" class=\"dataframe\">\n",
       "  <thead>\n",
       "    <tr style=\"text-align: right;\">\n",
       "      <th></th>\n",
       "      <th>name</th>\n",
       "      <th>year</th>\n",
       "      <th>points</th>\n",
       "    </tr>\n",
       "  </thead>\n",
       "  <tbody>\n",
       "    <tr>\n",
       "      <th>0</th>\n",
       "      <td>Elise</td>\n",
       "      <td>2014</td>\n",
       "      <td>1.5</td>\n",
       "    </tr>\n",
       "    <tr>\n",
       "      <th>1</th>\n",
       "      <td>Julia</td>\n",
       "      <td>2015</td>\n",
       "      <td>1.7</td>\n",
       "    </tr>\n",
       "    <tr>\n",
       "      <th>2</th>\n",
       "      <td>Jhon</td>\n",
       "      <td>2016</td>\n",
       "      <td>3.6</td>\n",
       "    </tr>\n",
       "    <tr>\n",
       "      <th>3</th>\n",
       "      <td>Charles</td>\n",
       "      <td>2017</td>\n",
       "      <td>2.5</td>\n",
       "    </tr>\n",
       "    <tr>\n",
       "      <th>4</th>\n",
       "      <td>Charles</td>\n",
       "      <td>2018</td>\n",
       "      <td>2.9</td>\n",
       "    </tr>\n",
       "  </tbody>\n",
       "</table>\n",
       "</div>"
      ],
      "text/plain": [
       "      name  year  points\n",
       "0    Elise  2014     1.5\n",
       "1    Julia  2015     1.7\n",
       "2     Jhon  2016     3.6\n",
       "3  Charles  2017     2.5\n",
       "4  Charles  2018     2.9"
      ]
     },
     "execution_count": 120,
     "metadata": {},
     "output_type": "execute_result"
    }
   ],
   "source": [
    "'''\n",
    "데이터프레임 속성\n",
    "index, columns, shape: 구조 | dypes: 데이터타입\n",
    "'''\n",
    "\n",
    "data = {\"name\":['Elise', 'Julia', 'Jhon', 'Charles', 'Charles'],\n",
    "        \"year\":[2014, 2015, 2016, 2017, 2018],\n",
    "        \"points\":[1.5, 1.7, 3.6, 2.5, 2.9]}\n",
    "\n",
    "df = pd.DataFrame(data)\n",
    "\n",
    "print(df.index)\n",
    "print(df.columns)\n",
    "\n",
    "df"
   ]
  },
  {
   "cell_type": "code",
   "execution_count": 122,
   "id": "059f0639",
   "metadata": {},
   "outputs": [
    {
     "data": {
      "text/html": [
       "<div>\n",
       "<style scoped>\n",
       "    .dataframe tbody tr th:only-of-type {\n",
       "        vertical-align: middle;\n",
       "    }\n",
       "\n",
       "    .dataframe tbody tr th {\n",
       "        vertical-align: top;\n",
       "    }\n",
       "\n",
       "    .dataframe thead th {\n",
       "        text-align: right;\n",
       "    }\n",
       "</style>\n",
       "<table border=\"1\" class=\"dataframe\">\n",
       "  <thead>\n",
       "    <tr style=\"text-align: right;\">\n",
       "      <th></th>\n",
       "      <th>name</th>\n",
       "      <th>year</th>\n",
       "      <th>points</th>\n",
       "    </tr>\n",
       "  </thead>\n",
       "  <tbody>\n",
       "    <tr>\n",
       "      <th>1번</th>\n",
       "      <td>Elise</td>\n",
       "      <td>2014</td>\n",
       "      <td>1.5</td>\n",
       "    </tr>\n",
       "    <tr>\n",
       "      <th>2번</th>\n",
       "      <td>Julia</td>\n",
       "      <td>2015</td>\n",
       "      <td>1.7</td>\n",
       "    </tr>\n",
       "    <tr>\n",
       "      <th>3번</th>\n",
       "      <td>Jhon</td>\n",
       "      <td>2016</td>\n",
       "      <td>3.6</td>\n",
       "    </tr>\n",
       "    <tr>\n",
       "      <th>4번</th>\n",
       "      <td>Charles</td>\n",
       "      <td>2017</td>\n",
       "      <td>2.5</td>\n",
       "    </tr>\n",
       "    <tr>\n",
       "      <th>5번</th>\n",
       "      <td>Charles</td>\n",
       "      <td>2018</td>\n",
       "      <td>2.9</td>\n",
       "    </tr>\n",
       "  </tbody>\n",
       "</table>\n",
       "</div>"
      ],
      "text/plain": [
       "       name  year  points\n",
       "1번    Elise  2014     1.5\n",
       "2번    Julia  2015     1.7\n",
       "3번     Jhon  2016     3.6\n",
       "4번  Charles  2017     2.5\n",
       "5번  Charles  2018     2.9"
      ]
     },
     "execution_count": 122,
     "metadata": {},
     "output_type": "execute_result"
    }
   ],
   "source": [
    "df.index = [f'{i+1}번' for i in range(len(df))]\n",
    "df"
   ]
  },
  {
   "cell_type": "code",
   "execution_count": 124,
   "id": "b4468cb3",
   "metadata": {},
   "outputs": [
    {
     "data": {
      "text/html": [
       "<div>\n",
       "<style scoped>\n",
       "    .dataframe tbody tr th:only-of-type {\n",
       "        vertical-align: middle;\n",
       "    }\n",
       "\n",
       "    .dataframe tbody tr th {\n",
       "        vertical-align: top;\n",
       "    }\n",
       "\n",
       "    .dataframe thead th {\n",
       "        text-align: right;\n",
       "    }\n",
       "</style>\n",
       "<table border=\"1\" class=\"dataframe\">\n",
       "  <thead>\n",
       "    <tr style=\"text-align: right;\">\n",
       "      <th></th>\n",
       "      <th>name</th>\n",
       "      <th>year</th>\n",
       "      <th>points</th>\n",
       "    </tr>\n",
       "  </thead>\n",
       "  <tbody>\n",
       "    <tr>\n",
       "      <th>1st</th>\n",
       "      <td>Elise</td>\n",
       "      <td>2014</td>\n",
       "      <td>1.5</td>\n",
       "    </tr>\n",
       "    <tr>\n",
       "      <th>2nd</th>\n",
       "      <td>Julia</td>\n",
       "      <td>2015</td>\n",
       "      <td>1.7</td>\n",
       "    </tr>\n",
       "    <tr>\n",
       "      <th>3rd</th>\n",
       "      <td>Jhon</td>\n",
       "      <td>2016</td>\n",
       "      <td>3.6</td>\n",
       "    </tr>\n",
       "    <tr>\n",
       "      <th>4th</th>\n",
       "      <td>Charles</td>\n",
       "      <td>2017</td>\n",
       "      <td>2.5</td>\n",
       "    </tr>\n",
       "    <tr>\n",
       "      <th>5th</th>\n",
       "      <td>Charles</td>\n",
       "      <td>2018</td>\n",
       "      <td>2.9</td>\n",
       "    </tr>\n",
       "  </tbody>\n",
       "</table>\n",
       "</div>"
      ],
      "text/plain": [
       "        name  year  points\n",
       "1st    Elise  2014     1.5\n",
       "2nd    Julia  2015     1.7\n",
       "3rd     Jhon  2016     3.6\n",
       "4th  Charles  2017     2.5\n",
       "5th  Charles  2018     2.9"
      ]
     },
     "execution_count": 124,
     "metadata": {},
     "output_type": "execute_result"
    }
   ],
   "source": [
    "df.index = ['1st','2nd','3rd','4th','5th']\n",
    "df"
   ]
  },
  {
   "cell_type": "code",
   "execution_count": 129,
   "id": "ee9057c8",
   "metadata": {},
   "outputs": [
    {
     "name": "stdout",
     "output_type": "stream",
     "text": [
      "(5, 3) \n",
      "\n",
      "name       object\n",
      "year        int64\n",
      "points    float64\n",
      "dtype: object\n"
     ]
    }
   ],
   "source": [
    "# data structure\n",
    "print(df.shape,'\\n')\n",
    "\n",
    "# data type => 메인키를 시리즈로 받음\n",
    "print(df.dtypes)"
   ]
  },
  {
   "cell_type": "code",
   "execution_count": null,
   "id": "7c30b3d4",
   "metadata": {},
   "outputs": [],
   "source": []
  }
 ],
 "metadata": {
  "kernelspec": {
   "display_name": "Python 3 (ipykernel)",
   "language": "python",
   "name": "python3"
  },
  "language_info": {
   "codemirror_mode": {
    "name": "ipython",
    "version": 3
   },
   "file_extension": ".py",
   "mimetype": "text/x-python",
   "name": "python",
   "nbconvert_exporter": "python",
   "pygments_lexer": "ipython3",
   "version": "3.10.9"
  }
 },
 "nbformat": 4,
 "nbformat_minor": 5
}
