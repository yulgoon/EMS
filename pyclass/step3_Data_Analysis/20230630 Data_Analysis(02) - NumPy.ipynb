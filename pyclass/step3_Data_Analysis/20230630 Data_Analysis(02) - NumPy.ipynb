{
 "cells": [
  {
   "cell_type": "markdown",
   "id": "2dd1c9be",
   "metadata": {},
   "source": [
    "### 배열의 데이터 추가\n",
    "- np.insert(배열명, 인덱스, 값) : 1차원 배열의 특정 위치에 값 삽입\n",
    "- np.insert(배열명, 인덱스, 값, axis=0/1) : 2차원 배열의 특정 위치에 값 삽입\n",
    "- 축(axis)를 지정하지 않으면 1차원 배열로 반환하며 추가할 방향을 axis로 지정\n",
    "- 원본 배열 변경없이 새로운 배열 반환"
   ]
  },
  {
   "cell_type": "code",
   "execution_count": 1,
   "id": "2c823778",
   "metadata": {},
   "outputs": [],
   "source": [
    "import numpy as np"
   ]
  },
  {
   "cell_type": "code",
   "execution_count": 2,
   "id": "52f1c3b1",
   "metadata": {},
   "outputs": [
    {
     "name": "stdout",
     "output_type": "stream",
     "text": [
      "[0 1 2 3 4] \n",
      "\n",
      "[100   0   1   2   3   4] \n",
      "\n",
      "[  0   1   2   3   4 200] \n",
      "\n",
      "[  0   1   2   3 200   4] \n",
      "\n"
     ]
    }
   ],
   "source": [
    "# 1차원 배열 추가\n",
    "# np.insert(배열명, 인덱스 위치, 데이터) => 덮어 씌우지 않고 추가하고 그 뒤는 밀림\n",
    "arr1 = np.arange(5) # [0,1,2,3,4]\n",
    "print(arr1, '\\n')\n",
    "\n",
    "# 그냥 출력하면 미리보기이며, 원본에 반영이 되지 않는다.\n",
    "# 원본에 반영하려면 대입 연산자('=')로 원본에 다시 선언해야 한다.\n",
    "print(np.insert(arr1, 0, 100), '\\n')\n",
    "print(np.insert(arr1, len(arr1), 200), '\\n') # 맨 뒤에 추가\n",
    "print(np.insert(arr1, -1, 200), '\\n')"
   ]
  },
  {
   "cell_type": "code",
   "execution_count": 4,
   "id": "16ae3178",
   "metadata": {},
   "outputs": [
    {
     "name": "stdout",
     "output_type": "stream",
     "text": [
      "[[1 2 3]\n",
      " [4 5 6]\n",
      " [7 8 9]] \n",
      "\n",
      "[[100 200 300]\n",
      " [  1   2   3]\n",
      " [  4   5   6]\n",
      " [  7   8   9]] \n",
      "\n",
      "[[  1   2   3]\n",
      " [  4   5   6]\n",
      " [  7   8   9]\n",
      " [100 200 300]] \n",
      "\n",
      "[[1 2 3]\n",
      " [4 5 6]\n",
      " [7 8 9]] \n",
      "\n",
      "[[100   1   2   3]\n",
      " [200   4   5   6]\n",
      " [300   7   8   9]] \n",
      "\n",
      "[[  1   2   3 100]\n",
      " [  4   5   6 200]\n",
      " [  7   8   9 300]] \n",
      "\n",
      "[[  1   2   3 100]\n",
      " [  4   5   6 200]\n",
      " [  7   8   9 300]] \n",
      "\n"
     ]
    }
   ],
   "source": [
    "# 2차원 배열 추가\n",
    "# np.insert(배열명, 인덱스 위치, 데이터, axis=0|1)\n",
    "# axis 값이 0이면 행단위, 1이면 열단위\n",
    "\n",
    "arr2 = np.arange(1,10).reshape(3,3)\n",
    "print(arr2, '\\n')\n",
    "\n",
    "# 그냥 출력하면 미리보기이며, 원본에 반영이 되지 않는다.\n",
    "# 원본에 반영하려면 대입 연산자('=')로 원본에 다시 선언해야 한다.\n",
    "print(np.insert(arr2, 0, [100, 200, 300], axis=0), '\\n')\n",
    "print(np.insert(arr2, 3, [100, 200, 300], axis=0), '\\n')\n",
    "\n",
    "arr2 = np.arange(1,10).reshape(3,3) \n",
    "print(arr2, '\\n') \n",
    "\n",
    "# 그냥 출력하면 미리보기이며, 원본에 반영이 되지 않는다.\n",
    "# 원본에 반영하려면 대입 연산자('=')로 원본에 다시 선언해야 한다.\n",
    "print(np.insert(arr2, 0, [100, 200, 300], axis=1), '\\n') \n",
    "print(np.insert(arr2, 3, [100, 200, 300], axis=1), '\\n') \n",
    "print(np.insert(arr2, arr2.shape[1] , [100, 200, 300], axis=1), '\\n')"
   ]
  },
  {
   "cell_type": "markdown",
   "id": "18416b2b",
   "metadata": {},
   "source": [
    "### 배열의 데이터 삭제\n",
    "- np.delete(배열명, 인덱스) : 1차원 배열에서 인덱스에 해당하는 값 삭제\n",
    "- np.delete(배열명, 인덱스, axis=0/1) : 2차원 배열에서 인덱스에 해당하는 값 삭제.\n",
    "- 축(axis)를 지정하지 않으면 1차원 배열로 반환하며 2차원 배열은 삭제할 방향을 axis로 지정\n",
    "- 원본 배열 변경없이 새로운 배열 반환"
   ]
  },
  {
   "cell_type": "code",
   "execution_count": 5,
   "id": "565135c5",
   "metadata": {},
   "outputs": [
    {
     "name": "stdout",
     "output_type": "stream",
     "text": [
      "[10  9  8  7  6  5  4  3  2  1] \n",
      "\n",
      "[10  9  8  7  6  4  3  2  1] \n",
      "\n",
      "[10  9  8  7  6  5  4  3  2] \n",
      "\n"
     ]
    }
   ],
   "source": [
    "# 1차원 배열\n",
    "arr1 = np.arange(10, 0, -1) \n",
    "print(arr1, '\\n') \n",
    "print(np.delete(arr1, 5), '\\n') \n",
    "print(np.delete(arr1, -1), '\\n')"
   ]
  },
  {
   "cell_type": "code",
   "execution_count": 11,
   "id": "b5a700ea",
   "metadata": {},
   "outputs": [
    {
     "name": "stdout",
     "output_type": "stream",
     "text": [
      "[[20 19 18 17 16]\n",
      " [15 14 13 12 11]\n",
      " [10  9  8  7  6]\n",
      " [ 5  4  3  2  1]] \n",
      "\n",
      "[[15 14 13 12 11]\n",
      " [10  9  8  7  6]\n",
      " [ 5  4  3  2  1]] \n",
      "\n",
      "[[20 19 18 17 16]\n",
      " [15 14 13 12 11]\n",
      " [10  9  8  7  6]] \n",
      "\n",
      "[[15 14 13]\n",
      " [12 11 10]\n",
      " [ 9  8  7]\n",
      " [ 6  5  4]\n",
      " [ 3  2  1]] \n",
      "\n",
      "[14 13 12 11 10  9  8  7  6  5  4  3  2  1] \n",
      "\n",
      "[[12 11 10]\n",
      " [ 9  8  7]\n",
      " [ 6  5  4]\n",
      " [ 3  2  1]] \n",
      "\n"
     ]
    }
   ],
   "source": [
    "# 2차원 배열\n",
    "arr2 = np.arange(20,0,-1).reshape(-1,5)\n",
    "print(arr2, '\\n')\n",
    "print(np.delete(arr2, 0, axis=0), '\\n')\n",
    "print(np.delete(arr2, -1, axis=0), '\\n') # 삭제에서 '-1'은 맨 뒤가 삭제\n",
    "\n",
    "arr2 = np.arange(15,0,-1).reshape(5,3)\n",
    "print(arr2,'\\n')\n",
    "print(np.delete(arr2, 0),'\\n') # axis를 안 넣었을 때 <참고>\n",
    "print(np.delete(arr2, 0, axis=0),'\\n')"
   ]
  },
  {
   "cell_type": "markdown",
   "id": "550b6d57",
   "metadata": {},
   "source": [
    "### 난수 배열 생성\n",
    "##### 기본은 실수형으로 생성\n",
    "- np.random.rand(갯수) , np.random.rand(행수,열수) : 균등 분포\n",
    "- np.random.randn(갯수) , np.random.randn(행수,열수) : 표준 정규 분포\n",
    "- np.random.uniform(start, end, 갯수) , np.random.uniform(start, end, (행수,열수) ) : 범위 안에서의 실수 난수\n",
    "- np.random.randint(start,end, 갯수) , np.random.randint(start,end, (행수,열수)) : 범위 안에서의 정수 난수"
   ]
  },
  {
   "cell_type": "code",
   "execution_count": 18,
   "id": "386c2c26",
   "metadata": {},
   "outputs": [
    {
     "name": "stdout",
     "output_type": "stream",
     "text": [
      "[ 2.37518349 -1.14850962  0.75617445  0.14406246  0.83568931] \n",
      "\n",
      "[[-0.23996898  0.58677127 -0.9453961 ]\n",
      " [ 1.15239714  0.66178004 -0.09801436]\n",
      " [ 0.52902612  0.17822699 -0.14040285]] \n",
      "\n",
      "[ 0.7520604   1.52080226 -4.3662771  -4.54983548  0.3697119 ] \n",
      "\n",
      "[[-3.60822669  3.0245338 ]\n",
      " [-1.3399713  -0.59419179]\n",
      " [-1.47196712  2.0818559 ]\n",
      " [-0.55551123 -1.00991162]] \n",
      "\n",
      "==================================================\n",
      "[0 1 1 1 0 1 0 1 0 0] \n",
      "\n",
      "[ -2   1   6  10   3   2   7 -10  -6   6] \n",
      "\n",
      "[[35 41 22 28 19]\n",
      " [76 79 24 88 97]\n",
      " [47 48 37 60 66]] \n",
      "\n"
     ]
    }
   ],
   "source": [
    "print(np.random.randn(5), '\\n') \n",
    "print(np.random.randn(3,3), '\\n') \n",
    "print(np.random.uniform(-5, 5, 5), '\\n') \n",
    "print(np.random.uniform(-5, 5, (4,2)), '\\n')\n",
    "print('='*50)\n",
    "\n",
    "# start 값 생략시 0 부터 end-1까지 => 정수형\n",
    "print(np.random.randint(2, size=10),'\\n')\n",
    "print(np.random.randint(-10, 11, size=10),'\\n')\n",
    "print(np.random.randint(10, 99, size=(3, 5)),'\\n')"
   ]
  },
  {
   "cell_type": "markdown",
   "id": "8280488c",
   "metadata": {},
   "source": [
    "### 배열 데이타 무작위 선택\n",
    "np.random.choice()\n",
    "- 리스트에서 무작위로 n개의 데이터를 추출할 때 사용한다.\n",
    "- np.random.choice(양의정수|데이타리스트, size=샘플숫자, replace=True/False, p=확률리스트)\n",
    "- 데이타형이 리스트이면 데이터, 정수이면 arange(a) 명령으로 데이터를 생성한다.\n",
    "- Size : 정수. 샘플 숫자\n",
    "- replace : 불리언. True이면 한번 선택한 데이터를 다시 선택 가능하다. 중복허용\n",
    "- p : 리스트형태로 각 데이터가 선택될 수 있는 확률로 소숫점 단위로 지정. 합은 1이어야한다"
   ]
  },
  {
   "cell_type": "code",
   "execution_count": 24,
   "id": "5d2267cd",
   "metadata": {},
   "outputs": [
    {
     "name": "stdout",
     "output_type": "stream",
     "text": [
      "[ 0 10  3  4  9]\n",
      "[6 5 4 7 4]\n",
      "[3 3 1 3 2 2 1 1 1 3]\n",
      "[2 1 1 3 3 2 2 3 2 1]\n",
      "[1 3 2 3 2 2 3 1 1 1]\n"
     ]
    }
   ],
   "source": [
    "print(np.random.choice(11, 5, replace=False))\n",
    "print(np.random.choice(11, 5, replace=True))\n",
    "\n",
    "# 선택 확률을 다르게 해서 2개 선택 # 0~4 범위에서 1,2,3 숫자중 선택 \n",
    "# 확률배율 p=소숫점아래배열로구성\n",
    "print(np.random.choice(5, 10, p=[0, 0.3, 0.3, 0.4, 0]))\n",
    "print(np.random.choice(5, 10, p=[0, 0.3, 0.3, 0.4, 0])) \n",
    "print(np.random.choice(5, 10, p=[0, 0.3, 0.3, 0.4, 0]))"
   ]
  },
  {
   "cell_type": "code",
   "execution_count": 29,
   "id": "31c51b74",
   "metadata": {},
   "outputs": [
    {
     "name": "stdout",
     "output_type": "stream",
     "text": [
      "1번 ['하와이 왕복티켓 2매']\n",
      "2번 ['꽝']\n",
      "3번 ['스타벅스 상품권 5만원']\n",
      "4번 ['스타벅스 상품권 5만원']\n",
      "5번 ['꽝']\n",
      "6번 ['스타벅스 상품권 5만원']\n",
      "7번 ['꽝']\n",
      "8번 ['꽝']\n",
      "9번 ['꽝']\n",
      "10번 ['꽝']\n"
     ]
    }
   ],
   "source": [
    "# 데이터 뽑기\n",
    "# 10번 기회중에서 꽝이 나올 확률은 0.6\n",
    "gift_list = ['꽝','하와이 왕복티켓 2매', '스타벅스 상품권 5만원' ] \n",
    "for i in range(10):\n",
    "     print(f'{i+1}번', np.random.choice(gift_list, 1, p=[0.6, 0.05, 0.35]))"
   ]
  },
  {
   "cell_type": "code",
   "execution_count": 233,
   "id": "8e936331",
   "metadata": {},
   "outputs": [
    {
     "name": "stdout",
     "output_type": "stream",
     "text": [
      "[23  7 24 42 12 29]\n",
      "[ 6 38  7 45 17 33]\n",
      "[20 21 34  7 23 44]\n",
      "[18 27 32 20  8 37]\n",
      "[29  6 43 28  5 20]\n"
     ]
    }
   ],
   "source": [
    "# 로또 번호 생성기 (1~46, 6개, 중복x)\n",
    "for i in range(5):\n",
    "    lotto_list = np.random.choice(np.arange(1,46), size=6, replace=False)\n",
    "    print(lotto_list)"
   ]
  },
  {
   "cell_type": "code",
   "execution_count": 269,
   "id": "b7693e26",
   "metadata": {},
   "outputs": [
    {
     "name": "stdout",
     "output_type": "stream",
     "text": [
      "[1 2 3 4 5 6 7 8 9] \n",
      "\n",
      "[7 5 2 8 1 9 6 3 4] \n",
      "\n",
      "[5 6 8 4 2 1 9 3 7] \n",
      "\n",
      "[ 1  2  3  4  5  6  7  8  9 10 11 12 13 14 15 16 17 18 19 20 21 22 23 24\n",
      " 25] \n",
      "\n",
      "[13 15  2  8 17  3 19 20  7 21 10  1  6  4 16 12 25  5 23 24 14  9 18 11\n",
      " 22]\n"
     ]
    }
   ],
   "source": [
    "# 데이타 섞기, 원본에 바로 반영\n",
    "# np.random.shuffle(집합형자료)\n",
    "'''\n",
    "- 원본집합형자료(리스트, 넘파이배열)의 순서가 변경된다\n",
    "- np.random.shuffle(집합형자료)\n",
    "'''\n",
    "\n",
    "arr = np.arange(1,10)\n",
    "print(arr, '\\n')\n",
    "\n",
    "np.random.shuffle(arr)\n",
    "print(arr, '\\n')\n",
    "\n",
    "np.random.shuffle(arr)\n",
    "print(arr, '\\n')\n",
    "\n",
    "arr = np.arange(1,26)\n",
    "print(arr,'\\n')\n",
    "np.random.shuffle(arr)\n",
    "print(arr)"
   ]
  },
  {
   "cell_type": "code",
   "execution_count": 244,
   "id": "7344d484",
   "metadata": {},
   "outputs": [
    {
     "name": "stdout",
     "output_type": "stream",
     "text": [
      "[9 9 4]\n"
     ]
    }
   ],
   "source": [
    "# np.random.seed()\n",
    "# 시드 설정 => 100\n",
    "'''\n",
    "- 한번 발생한 난수를 다시 표시할 때 사용\n",
    "- np.random.seed(숫자)\n",
    "'''\n",
    "\n",
    "# 시드 0으로 설정 후 난수 배열 생성\n",
    "np.random.seed(100)\n",
    "print(np.random.randint(1, 10, 3))"
   ]
  },
  {
   "cell_type": "code",
   "execution_count": 245,
   "id": "e2a861b7",
   "metadata": {},
   "outputs": [
    {
     "data": {
      "text/plain": [
       "array([8, 8, 1])"
      ]
     },
     "execution_count": 245,
     "metadata": {},
     "output_type": "execute_result"
    }
   ],
   "source": [
    "# 시드 없이 난수 생성\n",
    "np.random.randint(1, 10, 3)"
   ]
  },
  {
   "cell_type": "code",
   "execution_count": 267,
   "id": "56d98a5a",
   "metadata": {},
   "outputs": [
    {
     "name": "stdout",
     "output_type": "stream",
     "text": [
      "[9 9 4]\n"
     ]
    }
   ],
   "source": [
    "# 시드 다시 설정 => 100\n",
    "np.random.seed(100)\n",
    "print(np.random.randint(1,10,3))"
   ]
  },
  {
   "cell_type": "code",
   "execution_count": 309,
   "id": "3e55912e",
   "metadata": {},
   "outputs": [
    {
     "name": "stdout",
     "output_type": "stream",
     "text": [
      "[23 32 97 93 85]\n",
      "[21 41 48 59 26]\n",
      "\n",
      "maximun : [23 41 97 93 85] | minimun : [21 32 48 59 26]\n"
     ]
    }
   ],
   "source": [
    "# - np.maximum(배열1, 배열2), np.minimum(배열1, 배열2)\n",
    "#      => 두 개의 배열에서 같은 인덱스 위치의 큰 숫자 또는 작은 숫자만 추출\n",
    "\n",
    "arr1 = np.random.randint(10,100,5)\n",
    "arr2 = np.random.randint(10,100,5)\n",
    "arr3 = np.random.randint(10,100,5)\n",
    "\n",
    "arr4 = np.maximum(arr1, arr2)\n",
    "arr5 = np.minimum(arr1, arr2)\n",
    "\n",
    "print(arr1)\n",
    "print(arr2)\n",
    "# print(arr3)\n",
    "print()\n",
    "# print('maximun :', arr4,'| minimun :', arr5)\n",
    "\n"
   ]
  },
  {
   "cell_type": "code",
   "execution_count": 319,
   "id": "b662b332",
   "metadata": {},
   "outputs": [
    {
     "name": "stdout",
     "output_type": "stream",
     "text": [
      "[6 4 8 7 6]\n",
      "31 6.2 6.0 8 4\n",
      "==================================================\n",
      "[[ 8 12 12 16]\n",
      " [ 5  8 19  2]\n",
      " [11 17  3  1]\n",
      " [ 3  6  5  4]\n",
      " [18 18  4  3]] \n",
      "\n",
      "175 \n",
      "\n",
      "[45 61 43 26] \n",
      "\n",
      "[48 34 32 18 43] \n",
      "\n"
     ]
    }
   ],
   "source": [
    "# np.통계함수(배열명, axis=0|1)\n",
    "# 통계함수 sum(), mean(), median(), max(), min()...\n",
    "'''\n",
    "- 같은 배열에서 최댓값이나 최솟값을 추출\n",
    "- 2차원 배열에서는 axis 값을 지정하여 같은 행이나 열에서 최댓값이나 최솟값 추출\n",
    "- np.max(배열), np.min(배열)\n",
    "- np.max/np.min(배열, axis=0), np.max/np.min(배열, axis=1)\n",
    "'''\n",
    "\n",
    "# 1차원 배열\n",
    "arr1 = np.random.randint(1,10,5)\n",
    "print(arr1)\n",
    "print(np.sum(arr1), np.mean(arr1), np.median(arr1), np.max(arr1), np.min(arr1))\n",
    "\n",
    "print('='*50)\n",
    "\n",
    "# 2차원 배열\n",
    "# 5행 4열\n",
    "arr2 = arr1 = np.random.randint(1, 20, (5,4))\n",
    "print(arr2,'\\n')\n",
    "\n",
    "print(np.sum(arr2),'\\n') # 모든 합\n",
    "print(np.sum(arr2, axis=0),'\\n') # 열 단위 같은 인덱스 위치의 데이터 합  => 반환 결과 값이 행 단위 개수\n",
    "print(np.sum(arr2, axis=1),'\\n') # 각 행의 데이터 합 => 반환 결과 값이 열 단위 개수"
   ]
  },
  {
   "cell_type": "code",
   "execution_count": 328,
   "id": "4e82e2b1",
   "metadata": {},
   "outputs": [
    {
     "name": "stdout",
     "output_type": "stream",
     "text": [
      "[35 62 77  3 21]\n",
      "[ 3 21 35 62 77]\n",
      "[77 62 35 21  3]\n",
      "================================================== \n",
      "\n",
      "[[ 10 -99  12]\n",
      " [ -5 -45  21]\n",
      " [  7 -89  33]] \n",
      "\n",
      "[[-99  10  12]\n",
      " [-45  -5  21]\n",
      " [-89   7  33]] \n",
      "\n",
      "[[ -5 -99  12]\n",
      " [  7 -89  21]\n",
      " [ 10 -45  33]] \n",
      "\n",
      "[[ 10 -45  33]\n",
      " [  7 -89  21]\n",
      " [ -5 -99  12]] \n",
      "\n",
      "[[-99  10  12]\n",
      " [-45  -5  21]\n",
      " [-89   7  33]] \n",
      "\n",
      "[[ 12  10 -99]\n",
      " [ 21  -5 -45]\n",
      " [ 33   7 -89]] \n",
      "\n"
     ]
    }
   ],
   "source": [
    "'''\n",
    "- np.sort(배열1차) / 배열명.sort() : 오름차순\n",
    "- np.sort(배열1차)[::-1] : 내림차순\n",
    "- np.sort(배열2차, axis=0/1)[::-1]|[::,::-1]\n",
    "'''\n",
    "\n",
    "# 1차원 배열\n",
    "npArr = np.random.randint(1, 99, 5)\n",
    "print(npArr)\n",
    "print(np.sort(npArr))\n",
    "print(np.sort(npArr)[::-1])\n",
    "print('='*50,'\\n')\n",
    "\n",
    "# 2차원 배열\n",
    "npArr = np.array([[10, -99, 12], [-5, -45, 21], [7, -89, 33]])\n",
    "print(npArr,'\\n')\n",
    "\n",
    "# 열 단위 정렬(인덱스 위치가 같은 열에서 정렬)\n",
    "print(np.sort(npArr),'\\n') # => axis=1의 결과와 데이터 같음(행 단위 오름차순)\n",
    "print(np.sort(npArr, axis=0),'\\n')\n",
    "print(np.sort(npArr, axis=0)[::-1],'\\n') # 정렬 결과를 역순으로 반환\n",
    "\n",
    "# 행 단위 정렬\n",
    "print(np.sort(npArr, axis=1),'\\n')\n",
    "print(np.sort(npArr, axis=1)[::, ::-1],'\\n') # 정렬 결과를 역순으로 반환"
   ]
  },
  {
   "cell_type": "markdown",
   "id": "ba35ddc9",
   "metadata": {},
   "source": [
    "### 중복값 제거\n",
    "- np.unique(배열명)"
   ]
  },
  {
   "cell_type": "code",
   "execution_count": 329,
   "id": "8b02e259",
   "metadata": {},
   "outputs": [
    {
     "name": "stdout",
     "output_type": "stream",
     "text": [
      "['Charles' 'Julia' 'Hayoung' 'Charles' 'Hayoung' 'Julia' 'Julia']\n",
      "['Charles' 'Hayoung' 'Julia']\n"
     ]
    }
   ],
   "source": [
    "names = np.array(['Charles','Julia', 'Hayoung','Charles', 'Hayoung','Julia','Julia'])\n",
    "print(names)\n",
    "print(np.unique(names)) # soring까지 됨"
   ]
  },
  {
   "cell_type": "code",
   "execution_count": 349,
   "id": "0302ba8f",
   "metadata": {},
   "outputs": [
    {
     "name": "stdout",
     "output_type": "stream",
     "text": [
      "[6 6 1 4 2 3 3 1 4 6 1 2 4 2 2 3 1 5 2 5 6 6 6 3 3 2 4]\n",
      "[1 2 3 4 5 6]\n",
      "==================================================\n",
      "[[3 1 7 9 9 2]\n",
      " [8 3 4 6 6 6]\n",
      " [8 8 8 8 8 9]\n",
      " [7 1 2 7 8 3]\n",
      " [3 5 2 2 1 6]]\n",
      "[1 2 3 4 5 6 7 8 9]\n"
     ]
    }
   ],
   "source": [
    "arr1 = np.array([6,6,1,4,2,3,3,1,4,6,1,2,4,2,2,3,1,5,2,5,6,6,6,3,3,2,4])\n",
    "print(arr1)\n",
    "print(np.unique(arr1))\n",
    "print('='*50)\n",
    "\n",
    "arr2 = np.random.randint(1,10,(5,6))\n",
    "print(arr2)\n",
    "print(np.unique(arr2))"
   ]
  },
  {
   "cell_type": "markdown",
   "id": "1e70d71a",
   "metadata": {},
   "source": [
    "### All & Any\n",
    "- all(조건식) : 모든 값이 조건식에 만족하면 True (and)\n",
    "- any(조건식) : 값 중 하나만 만족하면 True (or)"
   ]
  },
  {
   "cell_type": "code",
   "execution_count": 425,
   "id": "aa1a23f9",
   "metadata": {},
   "outputs": [
    {
     "name": "stdout",
     "output_type": "stream",
     "text": [
      "[  1 -90   0  30 -88] \n",
      "\n",
      "[ True False False  True False] \n",
      "\n",
      "False True\n",
      "[[ True  True  True  True  True]\n",
      " [ True  True  True  True  True]\n",
      " [ True  True  True  True  True]\n",
      " [ True  True  True  True  True]\n",
      " [ True  True  True  True  True]]\n",
      "[False  True  True  True  True]\n",
      "[False  True  True  True False]\n"
     ]
    },
    {
     "ename": "ValueError",
     "evalue": "The truth value of an array with more than one element is ambiguous. Use a.any() or a.all()",
     "output_type": "error",
     "traceback": [
      "\u001b[1;31m---------------------------------------------------------------------------\u001b[0m",
      "\u001b[1;31mValueError\u001b[0m                                Traceback (most recent call last)",
      "Cell \u001b[1;32mIn[425], line 9\u001b[0m\n\u001b[0;32m      7\u001b[0m \u001b[38;5;28mprint\u001b[39m(arr2 \u001b[38;5;241m>\u001b[39m \u001b[38;5;241m0\u001b[39m) \n\u001b[0;32m      8\u001b[0m \u001b[38;5;28mprint\u001b[39m(arr3 \u001b[38;5;241m>\u001b[39m \u001b[38;5;241m0\u001b[39m) \n\u001b[1;32m----> 9\u001b[0m \u001b[38;5;28mprint\u001b[39m(\u001b[38;5;28;43mall\u001b[39;49m\u001b[43m(\u001b[49m\u001b[43marr1\u001b[49m\u001b[43m \u001b[49m\u001b[38;5;241;43m>\u001b[39;49m\u001b[43m \u001b[49m\u001b[38;5;241;43m0\u001b[39;49m\u001b[43m)\u001b[49m, \u001b[38;5;28mall\u001b[39m(arr2 \u001b[38;5;241m>\u001b[39m \u001b[38;5;241m0\u001b[39m), \u001b[38;5;28mall\u001b[39m(arr3 \u001b[38;5;241m>\u001b[39m \u001b[38;5;241m0\u001b[39m))\n\u001b[0;32m     10\u001b[0m \u001b[38;5;28mprint\u001b[39m(\u001b[38;5;28many\u001b[39m(arr1 \u001b[38;5;241m>\u001b[39m \u001b[38;5;241m0\u001b[39m), \u001b[38;5;28many\u001b[39m(arr2 \u001b[38;5;241m>\u001b[39m \u001b[38;5;241m0\u001b[39m), \u001b[38;5;28many\u001b[39m(arr3 \u001b[38;5;241m>\u001b[39m \u001b[38;5;241m0\u001b[39m))\n\u001b[0;32m     11\u001b[0m \u001b[38;5;28mprint\u001b[39m(\u001b[38;5;129;01mnot\u001b[39;00m \u001b[38;5;28many\u001b[39m(arr1 \u001b[38;5;241m>\u001b[39m \u001b[38;5;241m0\u001b[39m), \u001b[38;5;129;01mnot\u001b[39;00m \u001b[38;5;28many\u001b[39m(arr2 \u001b[38;5;241m>\u001b[39m \u001b[38;5;241m0\u001b[39m), \u001b[38;5;129;01mnot\u001b[39;00m \u001b[38;5;28many\u001b[39m(arr3 \u001b[38;5;241m>\u001b[39m \u001b[38;5;241m0\u001b[39m))\n",
      "\u001b[1;31mValueError\u001b[0m: The truth value of an array with more than one element is ambiguous. Use a.any() or a.all()"
     ]
    }
   ],
   "source": [
    "arr = np.array([1, -90, 0, 30, -88])\n",
    "print(arr, '\\n')\n",
    "print(arr>0, '\\n')\n",
    "print(all(arr>0), any(arr>0)) # arr에 0, 음수가 있기 때문에 all은 False, any는 True 반환\n",
    "\n",
    "'''\n",
    "print(arr1 > 0)\n",
    "print(arr2 > 0) \n",
    "print(arr3 > 0) \n",
    "print(all(arr1 > 0), all(arr2 > 0), all(arr3 > 0))\n",
    "print(any(arr1 > 0), any(arr2 > 0), any(arr3 > 0))\n",
    "print(not any(arr1 > 0), not any(arr2 > 0), not any(arr3 > 0))\n",
    "'''"
   ]
  },
  {
   "cell_type": "code",
   "execution_count": 364,
   "id": "c056c4db",
   "metadata": {},
   "outputs": [
    {
     "name": "stdout",
     "output_type": "stream",
     "text": [
      "[ True False False  True False]\n",
      "[ True  True  True  True  True]\n",
      "[False False False False False]\n",
      "\n",
      "[ True False False  True False]\n",
      "[ True  True  True  True  True]\n",
      "[False False False False False]\n",
      "\n",
      "False True False\n",
      "True True False\n"
     ]
    }
   ],
   "source": [
    "# all(조건식) => and , any(조건식) => or\n",
    "arr1 = np.array([1, -90, 0, 30, -88])\n",
    "arr2 = np.array([1, 90, 78, 30, 88])\n",
    "arr3 = np.array([-1, -90, 0, -30, -88])\n",
    "\n",
    "print(arr1 > 0)\n",
    "print(arr2 > 0)\n",
    "print(arr3 > 0)\n",
    "print()\n",
    "\n",
    "print(arr1 > 0)\n",
    "print(arr2 > 0)\n",
    "print(arr3 > 0)\n",
    "print()\n",
    "\n",
    "print(all(arr1 > 0), all(arr2 > 0), all(arr3 > 0))\n",
    "print(any(arr1 > 0), any(arr2 > 0), any(arr3 > 0))"
   ]
  },
  {
   "cell_type": "markdown",
   "id": "40e64bc0",
   "metadata": {},
   "source": [
    "### np.where()\n",
    "- np.where(조건식, True, False) : 조건식에 만족하면 True 해당하는 값 표시, 그렇지 않으면 False에 해당하는 값 표시"
   ]
  },
  {
   "cell_type": "code",
   "execution_count": 374,
   "id": "cfd108e7",
   "metadata": {},
   "outputs": [
    {
     "name": "stdout",
     "output_type": "stream",
     "text": [
      "[-5  0  6 -3  2] \n",
      "\n",
      "[False  True  True False  True]\n",
      "['0 또는 음수' '0 또는 음수' '양수' '0 또는 음수' '양수']\n"
     ]
    }
   ],
   "source": [
    "arr = np.random.randint(-10, 11, 5)\n",
    "print(arr, '\\n')\n",
    "print(np.where(arr>=0, True, False))\n",
    "print(np.where(arr>0, '양수', '0 또는 음수'))"
   ]
  },
  {
   "cell_type": "markdown",
   "id": "ce40d2fb",
   "metadata": {},
   "source": [
    "## Boolean Indexing\n",
    "- 다수개의 배열에서 특정 조건에 맞는 값을 추출할 때 사용\n",
    "- 배열[조건] : TRUE, FALSE로 값이 표시\n",
    "- 논리 연산자 : |(or 연산자), &(and 연산자), ~(not 연산자)\n",
    "- 배열[조건]을 배열의 대괄호 [] 안에 삽입하면 True에 해당하는 데이타만 추출\n",
    "- 배열[배열[조건]]"
   ]
  },
  {
   "cell_type": "code",
   "execution_count": 414,
   "id": "b3daf836",
   "metadata": {},
   "outputs": [
    {
     "name": "stdout",
     "output_type": "stream",
     "text": [
      "[[ 29   2  29 -53 -91 -80  13]\n",
      " [-13 -51 -75  92  59 -81  77]\n",
      " [  4 -39 -44   7  11  74  28]\n",
      " [-68  52  44   7  88 -12 -69]\n",
      " [ 36  95  -8  71 -27  53  10]\n",
      " [ 87 -36  26 -87  82  87  -5]\n",
      " [ 33 -98  45  72 -91  80 -30]] \n",
      "\n",
      "[[False False False False  True False False]\n",
      " [False False False  True False  True False]\n",
      " [False False False False False False False]\n",
      " [False False False False  True False False]\n",
      " [False  True False False False False False]\n",
      " [ True False False  True  True  True False]\n",
      " [False  True False False  True False False]] \n",
      "\n",
      "[-91  92 -81  88  95  87 -87  82  87 -98 -91] \n",
      "\n",
      "[ 2 92  4 74 28 52 44 88 36 10 26 82 72 80] \n",
      "\n",
      "[59 77 95 71 53 87 87] \n",
      "\n"
     ]
    }
   ],
   "source": [
    "# 80보다 크거나 -80보다 작은 데이터로 구성된 넘파이 배열이 추출된다\n",
    "# 0보다 크거나 -50보다 작은 데이터로 구성된 넘파이 배열이 추출된다\n",
    "\n",
    "# 1차원 배열\n",
    "arr = np.random.randint(-99, 100, (7,7))  # -99~99 사이의 난수로 7x7 행렬 생성\n",
    "print(arr, '\\n')\n",
    "\n",
    "print((arr>80) | (arr<-80), '\\n') # True|False 반환\n",
    "\n",
    "print(arr[(arr>80) | (arr<-80)], '\\n')\n",
    "\n",
    "print(arr[(arr>0) & (arr%2==0)], '\\n')\n",
    "\n",
    "print(arr[~(arr<50) & ~(arr%2==0)], '\\n')"
   ]
  },
  {
   "cell_type": "code",
   "execution_count": 415,
   "id": "1e409a37",
   "metadata": {},
   "outputs": [
    {
     "name": "stdout",
     "output_type": "stream",
     "text": [
      "[[-51  27 -11 -36  60]\n",
      " [ 19   2   9 -19 -44]\n",
      " [-83  38  22  53 -53]\n",
      " [ 78 -60 -38 -83  41]] \n",
      "\n",
      "[[False  True False False  True]\n",
      " [ True  True  True False False]\n",
      " [False  True  True  True False]\n",
      " [ True False False False  True]] \n",
      "\n",
      "[27 60 19  2  9 38 22 53 78 41] \n",
      "\n",
      "[-51  27 -11 -36  60] \n",
      "\n",
      "[False  True False False  True] \n",
      "\n",
      "[[ 27  60]\n",
      " [  2 -44]\n",
      " [ 38 -53]\n",
      " [-60  41]] \n",
      "\n"
     ]
    }
   ],
   "source": [
    "# 2차원 배열\n",
    "arr2 = np.random.randint(-100, 101, (4, 5) )\n",
    "print(arr2, '\\n')\n",
    "\n",
    "# 양수만 출력\n",
    "print(arr2 > 0, '\\n')\n",
    "print(arr2[arr2 > 0], '\\n')\n",
    "\n",
    "# 1행\n",
    "print(arr2[0,:], '\\n')\n",
    "print(arr2[0,:] > 0, '\\n')\n",
    "\n",
    "# 1행을 열의 마스크로 적용\n",
    "# 1행에서 양수인 데이터에 해당하는 열이 출력\n",
    "# 행과 열의 수가 달라서 조건식이 열에 대한 정렬인 경우 행의 전체를 잡기 위해 [:, 조건식] 형태로 적용\n",
    "# 따라서, 2차원 형태로 변수명[:, 변수명[:, 조건식]] 형태\n",
    "print(arr2[:, arr2[0,:] > 0], '\\n')"
   ]
  },
  {
   "cell_type": "code",
   "execution_count": 416,
   "id": "01a914b5",
   "metadata": {},
   "outputs": [
    {
     "name": "stdout",
     "output_type": "stream",
     "text": [
      "[[ 29   2  29 -53 -91 -80  13]\n",
      " [-13 -51 -75  92  59 -81  77]\n",
      " [  4 -39 -44   7  11  74  28]\n",
      " [-68  52  44   7  88 -12 -69]\n",
      " [ 36  95  -8  71 -27  53  10]\n",
      " [ 87 -36  26 -87  82  87  -5]\n",
      " [ 33 -98  45  72 -91  80 -30]] \n",
      "\n",
      "[False False False False False  True False] \n",
      "\n",
      "[[ 87 -36  26 -87  82  87  -5]] \n",
      "\n"
     ]
    }
   ],
   "source": [
    "# 1열의 값 중 50보다 큰 행만 추출된다\n",
    "\n",
    "# 2차원 형태\n",
    "# 행과 열의 수가 같아서 조건식[:,:]을 어디에 걸어도 그 해당하는 결과 반환 가능\n",
    "print(arr, '\\n')\n",
    "print(arr[:, 0]>50, '\\n')\n",
    "print(arr[arr[:, 0]>50], '\\n')"
   ]
  },
  {
   "cell_type": "markdown",
   "id": "ef3fbe65",
   "metadata": {},
   "source": [
    "## Fancy Indexing\n",
    "- 배열을 index value로 사용해서 값을 얻는 방법\n",
    "- 넘파이배열1[정수형넘파이배열2]\n",
    "- 넘파이배열1[정수형넘파이배열2, 정수형넘파이배열3]"
   ]
  },
  {
   "cell_type": "code",
   "execution_count": 423,
   "id": "fc8445cb",
   "metadata": {},
   "outputs": [
    {
     "name": "stdout",
     "output_type": "stream",
     "text": [
      "[1.05 2.05 3.05 4.05 5.05 6.05 7.05 8.05 9.05] \n",
      "\n",
      "[ 0  0  1  5  7 -1 -2] \n",
      "\n",
      "==================================================\n",
      "[1.05 1.05 2.05 6.05 8.05 9.05 8.05] \n",
      "\n"
     ]
    }
   ],
   "source": [
    "# 1차원 배열의 Fancy indexing\n",
    "arr1 = np.arange(1, 10, dtype=float) + 0.05\n",
    "arr2 = np.array([0, 0, 1, 5, 7, -1, -2])\n",
    "\n",
    "print(arr1,'\\n')\n",
    "print(arr2,'\\n')\n",
    "print('='*50)\n",
    "print(arr1[arr2],'\\n')\n",
    "# print(arr2[arr1],'\\n') # IndexError"
   ]
  },
  {
   "cell_type": "code",
   "execution_count": 424,
   "id": "04d4a39c",
   "metadata": {},
   "outputs": [
    {
     "name": "stdout",
     "output_type": "stream",
     "text": [
      "[[41 35 40 37 12]\n",
      " [47 39 30 29 48]\n",
      " [42 15 12 10 41]\n",
      " [14 16 23 34 33]\n",
      " [27 17 22 26 29]] \n",
      "\n",
      "[0 1 2 3 4] \n",
      "\n",
      "[-1  3  2  1  0] \n",
      "\n",
      "==================================================\n",
      "[12 29 12 16 27] \n",
      "\n"
     ]
    }
   ],
   "source": [
    "# 2차원 배열의 Fancy indexing\n",
    "arr1 = np.random.randint(10, 51, (5,5))\n",
    "arr2 = np.array([0, 1, 2, 3, 4])\n",
    "arr3 = np.array([-1, 3, 2, 1, 0])\n",
    "\n",
    "print(arr1,'\\n')\n",
    "print(arr2,'\\n')\n",
    "print(arr3,'\\n')\n",
    "print('='*50)\n",
    "print(arr1[arr2, arr3],'\\n') # arr2: 행 인덱스 | arr3: 열 인덱스"
   ]
  },
  {
   "cell_type": "code",
   "execution_count": null,
   "id": "8f618946",
   "metadata": {},
   "outputs": [],
   "source": []
  }
 ],
 "metadata": {
  "kernelspec": {
   "display_name": "Python 3 (ipykernel)",
   "language": "python",
   "name": "python3"
  },
  "language_info": {
   "codemirror_mode": {
    "name": "ipython",
    "version": 3
   },
   "file_extension": ".py",
   "mimetype": "text/x-python",
   "name": "python",
   "nbconvert_exporter": "python",
   "pygments_lexer": "ipython3",
   "version": "3.10.9"
  }
 },
 "nbformat": 4,
 "nbformat_minor": 5
}
